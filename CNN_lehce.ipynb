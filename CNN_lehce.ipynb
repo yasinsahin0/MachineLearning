{
 "cells": [
  {
   "cell_type": "code",
   "execution_count": 1,
   "id": "9017a8ac-4ef8-44ca-bb5f-3fadb4e9b92d",
   "metadata": {},
   "outputs": [],
   "source": [
    "import matplotlib.pyplot as plt\n",
    "import pandas as pd\n",
    "import os\n",
    "import librosa\n",
    "import numpy as np\n",
    "from tqdm import tqdm\n",
    "from sklearn.model_selection import train_test_split\n",
    "from tensorflow.keras.utils import to_categorical\n",
    "from sklearn.preprocessing import LabelEncoder\n",
    "from tensorflow.keras.models import Sequential\n",
    "from tensorflow.keras.layers import Dense,Dropout,Activation,Flatten\n",
    "from tensorflow.keras.optimizers import Adam\n",
    "from sklearn import metrics\n",
    "from tensorflow.keras.callbacks import ModelCheckpoint\n",
    "from datetime import datetime \n",
    "import tensorflow as tf\n",
    "from scipy.io import wavfile as wav\n",
    "import warnings\n",
    "warnings.filterwarnings('ignore')"
   ]
  },
  {
   "cell_type": "code",
   "execution_count": 32,
   "id": "cc2fd831-e5c0-40e9-bc0c-08c46dcc0115",
   "metadata": {},
   "outputs": [],
   "source": [
    "audio_dataset_path='sound_split/sounds/'\n",
    "metadata=pd.read_csv('sound_split/Splitmetadata.csv')\n",
    "mfcc = 70 # öznitelik sayısı\n",
    "num_labels = 7 # Sınıf sayısı\n",
    "unique_class = metadata['class_name'].unique()"
   ]
  },
  {
   "cell_type": "code",
   "execution_count": 3,
   "id": "2aba73d8-438b-47ca-b938-d5b83ae54e18",
   "metadata": {},
   "outputs": [],
   "source": [
    "def features_extractor(filename):\n",
    "    \n",
    "    audio, sample_rate = librosa.load(filename, res_type='kaiser_fast') \n",
    "    mfccs_features = librosa.feature.mfcc(y=audio, sr=sample_rate, n_mfcc=mfcc)\n",
    "    mfccs_scaled_features = np.mean(mfccs_features.T,axis=0)\n",
    "    \n",
    "    return mfccs_scaled_features"
   ]
  },
  {
   "cell_type": "code",
   "execution_count": 4,
   "id": "9f6f2682-6b67-420c-bfb3-7a7f7318e078",
   "metadata": {},
   "outputs": [
    {
     "name": "stderr",
     "output_type": "stream",
     "text": [
      "5178it [07:39, 11.28it/s]\n"
     ]
    }
   ],
   "source": [
    "extracted_features=[]\n",
    "for index_num,row in tqdm(metadata.iterrows()):\n",
    "    file_name = os.path.join(os.path.abspath(audio_dataset_path),str(row[\"file_name\"]))\n",
    "    final_class_labels=row[\"class_name\"]\n",
    "    data=features_extractor(file_name)\n",
    "    extracted_features.append([data,final_class_labels])"
   ]
  },
  {
   "cell_type": "code",
   "execution_count": 55,
   "id": "33d7a0e0-9294-497f-bcf9-205eada8e04b",
   "metadata": {},
   "outputs": [],
   "source": [
    "from keras import backend as K\n",
    "\n",
    "def recall_m(y_true, y_pred):\n",
    "    true_positives = K.sum(K.round(K.clip(y_true * y_pred, 0, 1)))\n",
    "    possible_positives = K.sum(K.round(K.clip(y_true, 0, 1)))\n",
    "    recall = true_positives / (possible_positives + K.epsilon())\n",
    "    return recall\n",
    "\n",
    "def precision_m(y_true, y_pred):\n",
    "    true_positives = K.sum(K.round(K.clip(y_true * y_pred, 0, 1)))\n",
    "    predicted_positives = K.sum(K.round(K.clip(y_pred, 0, 1)))\n",
    "    precision = true_positives / (predicted_positives + K.epsilon())\n",
    "    return precision\n",
    "\n",
    "def f1_m(y_true, y_pred):\n",
    "    precision = precision_m(y_true, y_pred)\n",
    "    recall = recall_m(y_true, y_pred)\n",
    "    return 2*((precision*recall)/(precision+recall+K.epsilon()))"
   ]
  },
  {
   "cell_type": "code",
   "execution_count": 5,
   "id": "4e613623-3128-4c7b-a7a3-336b9b49d1db",
   "metadata": {},
   "outputs": [],
   "source": [
    "extracted_features_df = pd.DataFrame(extracted_features,columns=['feature','class'])\n",
    "\n",
    "X=np.array(extracted_features_df['feature'].tolist())\n",
    "y=np.array(extracted_features_df['class'].tolist())\n",
    "\n",
    "labelencoder=LabelEncoder()\n",
    "y=to_categorical(labelencoder.fit_transform(y))\n",
    "\n",
    "X_train,X_test,y_train,y_test=train_test_split(X,y,test_size=0.2,random_state=0)"
   ]
  },
  {
   "cell_type": "code",
   "execution_count": 82,
   "id": "9b297e79-8a63-4a4e-a601-30d2b8e9af49",
   "metadata": {},
   "outputs": [],
   "source": [
    "model=Sequential()\n",
    "# 1. hidden layer\n",
    "model.add(Dense(100,input_shape=(mfcc,)))\n",
    "model.add(Activation('relu'))\n",
    "model.add(Dropout(0.3))\n",
    "# 2. hidden layer\n",
    "model.add(Dense(200))\n",
    "model.add(Activation('relu'))\n",
    "model.add(Dropout(0.2))\n",
    "# 3. hidden layer\n",
    "model.add(Dense(100))\n",
    "model.add(Activation('relu'))\n",
    "model.add(Dropout(0.3))\n",
    "\n",
    "# output layer\n",
    "model.add(Dense(num_labels))\n",
    "model.add(Activation('softmax'))\n",
    "\n",
    "model.compile(loss='categorical_crossentropy', metrics=['accuracy',f1_m, precision_m, recall_m], optimizer='adam')"
   ]
  },
  {
   "cell_type": "code",
   "execution_count": 91,
   "id": "19eb5bcb-b72d-4fb8-813c-f0b29b5237e0",
   "metadata": {},
   "outputs": [
    {
     "name": "stdout",
     "output_type": "stream",
     "text": [
      "Epoch 1/40\n",
      "130/130 [==============================] - 1s 11ms/step - loss: 0.0410 - accuracy: 0.9872 - f1_m: 0.9869 - precision_m: 0.9882 - recall_m: 0.9856 - val_loss: 0.0782 - val_accuracy: 0.9875 - val_f1_m: 0.9872 - val_precision_m: 0.9896 - val_recall_m: 0.9848\n",
      "Epoch 2/40\n",
      "130/130 [==============================] - 1s 11ms/step - loss: 0.0432 - accuracy: 0.9870 - f1_m: 0.9872 - precision_m: 0.9894 - recall_m: 0.9851 - val_loss: 0.0926 - val_accuracy: 0.9768 - val_f1_m: 0.9790 - val_precision_m: 0.9838 - val_recall_m: 0.9744\n",
      "Epoch 3/40\n",
      "130/130 [==============================] - 1s 11ms/step - loss: 0.0384 - accuracy: 0.9867 - f1_m: 0.9866 - precision_m: 0.9882 - recall_m: 0.9851 - val_loss: 0.1016 - val_accuracy: 0.9797 - val_f1_m: 0.9805 - val_precision_m: 0.9829 - val_recall_m: 0.9782\n",
      "Epoch 4/40\n",
      "130/130 [==============================] - 1s 10ms/step - loss: 0.0354 - accuracy: 0.9894 - f1_m: 0.9894 - precision_m: 0.9910 - recall_m: 0.9879 - val_loss: 0.1005 - val_accuracy: 0.9817 - val_f1_m: 0.9833 - val_precision_m: 0.9877 - val_recall_m: 0.9792\n",
      "Epoch 5/40\n",
      "130/130 [==============================] - 1s 10ms/step - loss: 0.0556 - accuracy: 0.9821 - f1_m: 0.9820 - precision_m: 0.9836 - recall_m: 0.9805 - val_loss: 0.0885 - val_accuracy: 0.9739 - val_f1_m: 0.9776 - val_precision_m: 0.9809 - val_recall_m: 0.9744\n",
      "Epoch 6/40\n",
      "130/130 [==============================] - 1s 10ms/step - loss: 0.0338 - accuracy: 0.9906 - f1_m: 0.9895 - precision_m: 0.9909 - recall_m: 0.9883 - val_loss: 0.0848 - val_accuracy: 0.9807 - val_f1_m: 0.9819 - val_precision_m: 0.9838 - val_recall_m: 0.9801\n",
      "Epoch 7/40\n",
      "130/130 [==============================] - 1s 10ms/step - loss: 0.0419 - accuracy: 0.9877 - f1_m: 0.9876 - precision_m: 0.9888 - recall_m: 0.9864 - val_loss: 0.0814 - val_accuracy: 0.9797 - val_f1_m: 0.9814 - val_precision_m: 0.9848 - val_recall_m: 0.9782\n",
      "Epoch 8/40\n",
      "130/130 [==============================] - 1s 10ms/step - loss: 0.0345 - accuracy: 0.9884 - f1_m: 0.9887 - precision_m: 0.9908 - recall_m: 0.9867 - val_loss: 0.0748 - val_accuracy: 0.9797 - val_f1_m: 0.9810 - val_precision_m: 0.9820 - val_recall_m: 0.9801\n",
      "Epoch 9/40\n",
      "130/130 [==============================] - 1s 10ms/step - loss: 0.0400 - accuracy: 0.9862 - f1_m: 0.9869 - precision_m: 0.9884 - recall_m: 0.9853 - val_loss: 0.1072 - val_accuracy: 0.9788 - val_f1_m: 0.9796 - val_precision_m: 0.9819 - val_recall_m: 0.9773\n",
      "Epoch 10/40\n",
      "130/130 [==============================] - 1s 11ms/step - loss: 0.0353 - accuracy: 0.9896 - f1_m: 0.9893 - precision_m: 0.9906 - recall_m: 0.9880 - val_loss: 0.0911 - val_accuracy: 0.9836 - val_f1_m: 0.9829 - val_precision_m: 0.9839 - val_recall_m: 0.9820\n",
      "Epoch 11/40\n",
      "130/130 [==============================] - 1s 10ms/step - loss: 0.0315 - accuracy: 0.9901 - f1_m: 0.9899 - precision_m: 0.9909 - recall_m: 0.9889 - val_loss: 0.1290 - val_accuracy: 0.9778 - val_f1_m: 0.9772 - val_precision_m: 0.9801 - val_recall_m: 0.9744\n",
      "Epoch 12/40\n",
      "130/130 [==============================] - 1s 10ms/step - loss: 0.0601 - accuracy: 0.9802 - f1_m: 0.9799 - precision_m: 0.9811 - recall_m: 0.9787 - val_loss: 0.0858 - val_accuracy: 0.9846 - val_f1_m: 0.9834 - val_precision_m: 0.9858 - val_recall_m: 0.9811\n",
      "Epoch 13/40\n",
      "130/130 [==============================] - 1s 11ms/step - loss: 0.0544 - accuracy: 0.9836 - f1_m: 0.9827 - precision_m: 0.9845 - recall_m: 0.9810 - val_loss: 0.1176 - val_accuracy: 0.9788 - val_f1_m: 0.9786 - val_precision_m: 0.9828 - val_recall_m: 0.9744\n",
      "Epoch 14/40\n",
      "130/130 [==============================] - 1s 10ms/step - loss: 0.0274 - accuracy: 0.9901 - f1_m: 0.9902 - precision_m: 0.9911 - recall_m: 0.9894 - val_loss: 0.1108 - val_accuracy: 0.9807 - val_f1_m: 0.9820 - val_precision_m: 0.9839 - val_recall_m: 0.9801\n",
      "Epoch 15/40\n",
      "130/130 [==============================] - 1s 11ms/step - loss: 0.0302 - accuracy: 0.9915 - f1_m: 0.9908 - precision_m: 0.9917 - recall_m: 0.9898 - val_loss: 0.0953 - val_accuracy: 0.9826 - val_f1_m: 0.9853 - val_precision_m: 0.9876 - val_recall_m: 0.9830\n",
      "Epoch 16/40\n",
      "130/130 [==============================] - 1s 10ms/step - loss: 0.0351 - accuracy: 0.9891 - f1_m: 0.9891 - precision_m: 0.9903 - recall_m: 0.9880 - val_loss: 0.1056 - val_accuracy: 0.9865 - val_f1_m: 0.9867 - val_precision_m: 0.9895 - val_recall_m: 0.9839\n",
      "Epoch 17/40\n",
      "130/130 [==============================] - 1s 10ms/step - loss: 0.0267 - accuracy: 0.9901 - f1_m: 0.9904 - precision_m: 0.9918 - recall_m: 0.9889 - val_loss: 0.1134 - val_accuracy: 0.9807 - val_f1_m: 0.9829 - val_precision_m: 0.9848 - val_recall_m: 0.9811\n",
      "Epoch 18/40\n",
      "130/130 [==============================] - 1s 10ms/step - loss: 0.0338 - accuracy: 0.9891 - f1_m: 0.9894 - precision_m: 0.9905 - recall_m: 0.9884 - val_loss: 0.0875 - val_accuracy: 0.9855 - val_f1_m: 0.9862 - val_precision_m: 0.9885 - val_recall_m: 0.9839\n",
      "Epoch 19/40\n",
      "130/130 [==============================] - 1s 10ms/step - loss: 0.0367 - accuracy: 0.9894 - f1_m: 0.9896 - precision_m: 0.9904 - recall_m: 0.9889 - val_loss: 0.0852 - val_accuracy: 0.9865 - val_f1_m: 0.9862 - val_precision_m: 0.9886 - val_recall_m: 0.9839\n",
      "Epoch 20/40\n",
      "130/130 [==============================] - 1s 11ms/step - loss: 0.0316 - accuracy: 0.9903 - f1_m: 0.9906 - precision_m: 0.9916 - recall_m: 0.9897 - val_loss: 0.0994 - val_accuracy: 0.9836 - val_f1_m: 0.9843 - val_precision_m: 0.9867 - val_recall_m: 0.9820\n",
      "Epoch 21/40\n",
      "130/130 [==============================] - 1s 10ms/step - loss: 0.0262 - accuracy: 0.9901 - f1_m: 0.9906 - precision_m: 0.9913 - recall_m: 0.9899 - val_loss: 0.0996 - val_accuracy: 0.9826 - val_f1_m: 0.9834 - val_precision_m: 0.9848 - val_recall_m: 0.9820\n",
      "Epoch 22/40\n",
      "130/130 [==============================] - 1s 10ms/step - loss: 0.0300 - accuracy: 0.9901 - f1_m: 0.9907 - precision_m: 0.9918 - recall_m: 0.9897 - val_loss: 0.1269 - val_accuracy: 0.9749 - val_f1_m: 0.9768 - val_precision_m: 0.9782 - val_recall_m: 0.9754\n",
      "Epoch 23/40\n",
      "130/130 [==============================] - 1s 10ms/step - loss: 0.0331 - accuracy: 0.9899 - f1_m: 0.9900 - precision_m: 0.9911 - recall_m: 0.9889 - val_loss: 0.0908 - val_accuracy: 0.9797 - val_f1_m: 0.9805 - val_precision_m: 0.9829 - val_recall_m: 0.9782\n",
      "Epoch 24/40\n",
      "130/130 [==============================] - 1s 10ms/step - loss: 0.0304 - accuracy: 0.9891 - f1_m: 0.9894 - precision_m: 0.9905 - recall_m: 0.9884 - val_loss: 0.0809 - val_accuracy: 0.9817 - val_f1_m: 0.9834 - val_precision_m: 0.9858 - val_recall_m: 0.9811\n",
      "Epoch 25/40\n",
      "130/130 [==============================] - 1s 10ms/step - loss: 0.0364 - accuracy: 0.9870 - f1_m: 0.9881 - precision_m: 0.9894 - recall_m: 0.9868 - val_loss: 0.1592 - val_accuracy: 0.9759 - val_f1_m: 0.9781 - val_precision_m: 0.9820 - val_recall_m: 0.9744\n",
      "Epoch 26/40\n",
      "130/130 [==============================] - 1s 11ms/step - loss: 0.0328 - accuracy: 0.9896 - f1_m: 0.9897 - precision_m: 0.9911 - recall_m: 0.9885 - val_loss: 0.1439 - val_accuracy: 0.9788 - val_f1_m: 0.9824 - val_precision_m: 0.9858 - val_recall_m: 0.9792\n",
      "Epoch 27/40\n",
      "130/130 [==============================] - 1s 10ms/step - loss: 0.0418 - accuracy: 0.9899 - f1_m: 0.9894 - precision_m: 0.9900 - recall_m: 0.9888 - val_loss: 0.1185 - val_accuracy: 0.9768 - val_f1_m: 0.9790 - val_precision_m: 0.9829 - val_recall_m: 0.9754\n",
      "Epoch 28/40\n",
      "130/130 [==============================] - 1s 10ms/step - loss: 0.0442 - accuracy: 0.9860 - f1_m: 0.9851 - precision_m: 0.9857 - recall_m: 0.9845 - val_loss: 0.0945 - val_accuracy: 0.9807 - val_f1_m: 0.9809 - val_precision_m: 0.9847 - val_recall_m: 0.9773\n",
      "Epoch 29/40\n",
      "130/130 [==============================] - 1s 10ms/step - loss: 0.0425 - accuracy: 0.9870 - f1_m: 0.9875 - precision_m: 0.9884 - recall_m: 0.9865 - val_loss: 0.0920 - val_accuracy: 0.9826 - val_f1_m: 0.9813 - val_precision_m: 0.9865 - val_recall_m: 0.9763\n",
      "Epoch 30/40\n",
      "130/130 [==============================] - 1s 10ms/step - loss: 0.0321 - accuracy: 0.9911 - f1_m: 0.9912 - precision_m: 0.9925 - recall_m: 0.9899 - val_loss: 0.0704 - val_accuracy: 0.9865 - val_f1_m: 0.9891 - val_precision_m: 0.9914 - val_recall_m: 0.9867\n",
      "Epoch 31/40\n",
      "130/130 [==============================] - 1s 10ms/step - loss: 0.0207 - accuracy: 0.9942 - f1_m: 0.9947 - precision_m: 0.9962 - recall_m: 0.9933 - val_loss: 0.0865 - val_accuracy: 0.9836 - val_f1_m: 0.9839 - val_precision_m: 0.9867 - val_recall_m: 0.9811\n",
      "Epoch 32/40\n",
      "130/130 [==============================] - 1s 10ms/step - loss: 0.0323 - accuracy: 0.9889 - f1_m: 0.9888 - precision_m: 0.9899 - recall_m: 0.9877 - val_loss: 0.0931 - val_accuracy: 0.9865 - val_f1_m: 0.9852 - val_precision_m: 0.9885 - val_recall_m: 0.9820\n",
      "Epoch 33/40\n",
      "130/130 [==============================] - 1s 10ms/step - loss: 0.0254 - accuracy: 0.9903 - f1_m: 0.9900 - precision_m: 0.9915 - recall_m: 0.9886 - val_loss: 0.0947 - val_accuracy: 0.9817 - val_f1_m: 0.9825 - val_precision_m: 0.9830 - val_recall_m: 0.9820\n",
      "Epoch 34/40\n",
      "130/130 [==============================] - 1s 10ms/step - loss: 0.0254 - accuracy: 0.9918 - f1_m: 0.9917 - precision_m: 0.9920 - recall_m: 0.9913 - val_loss: 0.0817 - val_accuracy: 0.9826 - val_f1_m: 0.9834 - val_precision_m: 0.9839 - val_recall_m: 0.9830\n",
      "Epoch 35/40\n",
      "130/130 [==============================] - 1s 10ms/step - loss: 0.0296 - accuracy: 0.9920 - f1_m: 0.9919 - precision_m: 0.9925 - recall_m: 0.9913 - val_loss: 0.1332 - val_accuracy: 0.9836 - val_f1_m: 0.9843 - val_precision_m: 0.9858 - val_recall_m: 0.9830\n",
      "Epoch 36/40\n",
      "130/130 [==============================] - 1s 10ms/step - loss: 0.0288 - accuracy: 0.9930 - f1_m: 0.9930 - precision_m: 0.9937 - recall_m: 0.9923 - val_loss: 0.1251 - val_accuracy: 0.9807 - val_f1_m: 0.9810 - val_precision_m: 0.9829 - val_recall_m: 0.9792\n",
      "Epoch 37/40\n",
      "130/130 [==============================] - 1s 10ms/step - loss: 0.0485 - accuracy: 0.9853 - f1_m: 0.9854 - precision_m: 0.9862 - recall_m: 0.9845 - val_loss: 0.1136 - val_accuracy: 0.9817 - val_f1_m: 0.9828 - val_precision_m: 0.9857 - val_recall_m: 0.9801\n",
      "Epoch 38/40\n",
      "130/130 [==============================] - 1s 10ms/step - loss: 0.0476 - accuracy: 0.9858 - f1_m: 0.9859 - precision_m: 0.9874 - recall_m: 0.9844 - val_loss: 0.1043 - val_accuracy: 0.9836 - val_f1_m: 0.9848 - val_precision_m: 0.9867 - val_recall_m: 0.9830\n",
      "Epoch 39/40\n",
      "130/130 [==============================] - 1s 11ms/step - loss: 0.0370 - accuracy: 0.9894 - f1_m: 0.9894 - precision_m: 0.9901 - recall_m: 0.9887 - val_loss: 0.0955 - val_accuracy: 0.9855 - val_f1_m: 0.9848 - val_precision_m: 0.9867 - val_recall_m: 0.9830\n",
      "Epoch 40/40\n",
      "130/130 [==============================] - 1s 10ms/step - loss: 0.0207 - accuracy: 0.9935 - f1_m: 0.9932 - precision_m: 0.9941 - recall_m: 0.9922 - val_loss: 0.1184 - val_accuracy: 0.9894 - val_f1_m: 0.9896 - val_precision_m: 0.9915 - val_recall_m: 0.9877\n"
     ]
    }
   ],
   "source": [
    "epochscount = 40\n",
    "num_batch_size = 32\n",
    "\n",
    "history = model.fit(X_train, y_train, batch_size=num_batch_size, epochs=epochscount, validation_data=(X_test, y_test), verbose=1)"
   ]
  },
  {
   "cell_type": "code",
   "execution_count": 88,
   "id": "c6d68246-ec8f-489a-9a69-447b8a2ebbba",
   "metadata": {},
   "outputs": [
    {
     "name": "stdout",
     "output_type": "stream",
     "text": [
      "Acc :  0.9768339395523071\n",
      "Loss :  0.09489042311906815\n"
     ]
    }
   ],
   "source": [
    "validation_test_set_accuracy = model.evaluate(X_test,y_test,verbose=0)\n",
    "print(\"Acc : \",validation_test_set_accuracy[1])\n",
    "print(\"Loss : \",validation_test_set_accuracy[0])"
   ]
  },
  {
   "cell_type": "code",
   "execution_count": 89,
   "id": "4515f524-5209-4a1f-a407-d8d39ebbd6f7",
   "metadata": {},
   "outputs": [
    {
     "name": "stdout",
     "output_type": "stream",
     "text": [
      "dict_keys(['loss', 'accuracy', 'f1_m', 'precision_m', 'recall_m', 'val_loss', 'val_accuracy', 'val_f1_m', 'val_precision_m', 'val_recall_m'])\n"
     ]
    }
   ],
   "source": [
    "print(history.history.keys())"
   ]
  },
  {
   "cell_type": "code",
   "execution_count": 90,
   "id": "7df92db3-81ae-4d9b-b8f8-c611e04addca",
   "metadata": {},
   "outputs": [
    {
     "data": {
      "image/png": "[encoded data removed]",
      "text/plain": [
       "<Figure size 432x288 with 1 Axes>"
      ]
     },
     "metadata": {
      "needs_background": "light"
     },
     "output_type": "display_data"
    }
   ],
   "source": [
    "plt.plot(history.history['accuracy'])\n",
    "plt.plot(history.history['val_accuracy'])\n",
    "plt.title('model accuracy')\n",
    "plt.ylabel('accuracy')\n",
    "plt.xlabel('epoch')\n",
    "plt.legend(['train', 'test'], loc='upper left')\n",
    "plt.show()\n",
    "#plt.savefig('c.png')"
   ]
  },
  {
   "cell_type": "code",
   "execution_count": 75,
   "id": "1b2a2ab7-bc78-475a-bdec-342c4f74e51f",
   "metadata": {},
   "outputs": [
    {
     "data": {
      "image/png": "[encoded data removed]",
      "text/plain": [
       "<Figure size 432x288 with 1 Axes>"
      ]
     },
     "metadata": {
      "needs_background": "light"
     },
     "output_type": "display_data"
    }
   ],
   "source": [
    "plt.plot(history.history['loss'])\n",
    "plt.plot(history.history['val_loss'])\n",
    "plt.title('model loss')\n",
    "plt.ylabel('loss')\n",
    "plt.xlabel('epoch')\n",
    "plt.legend(['train', 'test'], loc='upper left')\n",
    "plt.show()"
   ]
  },
  {
   "cell_type": "code",
   "execution_count": 76,
   "id": "45863380-2e5e-4bf1-9f15-887c14b634e9",
   "metadata": {},
   "outputs": [
    {
     "name": "stdout",
     "output_type": "stream",
     "text": [
      "F1-skor :  0.9751057624816895\n",
      "Precision skor :  0.9792178869247437\n",
      "Recall skor :  0.9711538553237915\n"
     ]
    }
   ],
   "source": [
    "print(\"F1-skor : \",history.history['f1_m'][-1])\n",
    "print(\"Precision skor : \",history.history['precision_m'][-1])\n",
    "print(\"Recall skor : \",history.history['recall_m'][-1])"
   ]
  },
  {
   "cell_type": "code",
   "execution_count": 77,
   "id": "eda05365-bbda-4693-92a4-c4040f1aabb5",
   "metadata": {},
   "outputs": [
    {
     "name": "stderr",
     "output_type": "stream",
     "text": [
      "2022-05-29 21:53:41.203489: I tensorflow/core/grappler/optimizers/custom_graph_optimizer_registry.cc:113] Plugin optimizer for device_type GPU is enabled.\n"
     ]
    }
   ],
   "source": [
    "y_pred = model.predict(X_test)"
   ]
  },
  {
   "cell_type": "code",
   "execution_count": 78,
   "id": "958599f0-80c9-4b04-aeff-7f4d54c20ea1",
   "metadata": {},
   "outputs": [
    {
     "name": "stdout",
     "output_type": "stream",
     "text": [
      "1036\n",
      "1036\n"
     ]
    }
   ],
   "source": [
    "predict_y, test_y =[],[]\n",
    "for a in y_pred:\n",
    "    predict_y.append(np.argmax(a))\n",
    "for i in y_test:\n",
    "    test_y.append(np.argmax(i))\n",
    "print(len(predict_y))\n",
    "print(len(test_y))"
   ]
  },
  {
   "cell_type": "code",
   "execution_count": 79,
   "id": "999ce639-04f5-4bbd-b05a-315333cab390",
   "metadata": {},
   "outputs": [],
   "source": [
    "from sklearn.metrics import confusion_matrix\n",
    "cm = confusion_matrix(test_y, predict_y)"
   ]
  },
  {
   "cell_type": "code",
   "execution_count": 80,
   "id": "0d51b01f-cf27-4916-9360-be397333c01b",
   "metadata": {},
   "outputs": [
    {
     "data": {
      "image/png": "[encoded data removed]",
      "text/plain": [
       "<Figure size 864x720 with 2 Axes>"
      ]
     },
     "metadata": {
      "needs_background": "light"
     },
     "output_type": "display_data"
    }
   ],
   "source": [
    "import seaborn as sn\n",
    "import pandas as pd\n",
    "import matplotlib.pyplot as plt\n",
    "\n",
    "df_cm = pd.DataFrame(cm, index = [i for i in unique_class],\n",
    "                  columns = [i for i in unique_class])\n",
    "plt.figure(figsize = (12,10))\n",
    "plt.title(\"Confusion Matrix\")\n",
    "ss = sn.heatmap(df_cm, annot=True,fmt=\"d\", cmap=\"BuPu\")\n",
    "figure = ss.get_figure()    \n",
    "#figure.savefig('cnn_conf.png', dpi=400)"
   ]
  },
  {
   "cell_type": "code",
   "execution_count": null,
   "id": "1671ea8d-a7c6-4a60-8fa4-466860c394ee",
   "metadata": {},
   "outputs": [
    {
     "data": {
      "text/html": [
       "<div>\n",
       "<style scoped>\n",
       "    .dataframe tbody tr th:only-of-type {\n",
       "        vertical-align: middle;\n",
       "    }\n",
       "\n",
       "    .dataframe tbody tr th {\n",
       "        vertical-align: top;\n",
       "    }\n",
       "\n",
       "    .dataframe thead th {\n",
       "        text-align: right;\n",
       "    }\n",
       "</style>\n",
       "<table border=\"1\" class=\"dataframe\">\n",
       "  <thead>\n",
       "    <tr style=\"text-align: right;\">\n",
       "      <th></th>\n",
       "      <th>precision</th>\n",
       "      <th>recall</th>\n",
       "      <th>f1-score</th>\n",
       "      <th>support</th>\n",
       "    </tr>\n",
       "  </thead>\n",
       "  <tbody>\n",
       "    <tr>\n",
       "      <th>0</th>\n",
       "      <td>0.980892</td>\n",
       "      <td>0.980892</td>\n",
       "      <td>0.980892</td>\n",
       "      <td>157.000000</td>\n",
       "    </tr>\n",
       "    <tr>\n",
       "      <th>1</th>\n",
       "      <td>0.969512</td>\n",
       "      <td>0.975460</td>\n",
       "      <td>0.972477</td>\n",
       "      <td>163.000000</td>\n",
       "    </tr>\n",
       "    <tr>\n",
       "      <th>2</th>\n",
       "      <td>0.948718</td>\n",
       "      <td>0.973684</td>\n",
       "      <td>0.961039</td>\n",
       "      <td>114.000000</td>\n",
       "    </tr>\n",
       "    <tr>\n",
       "      <th>3</th>\n",
       "      <td>0.981818</td>\n",
       "      <td>0.964286</td>\n",
       "      <td>0.972973</td>\n",
       "      <td>112.000000</td>\n",
       "    </tr>\n",
       "    <tr>\n",
       "      <th>4</th>\n",
       "      <td>0.961039</td>\n",
       "      <td>0.948718</td>\n",
       "      <td>0.954839</td>\n",
       "      <td>78.000000</td>\n",
       "    </tr>\n",
       "    <tr>\n",
       "      <th>5</th>\n",
       "      <td>0.990521</td>\n",
       "      <td>0.985849</td>\n",
       "      <td>0.988180</td>\n",
       "      <td>212.000000</td>\n",
       "    </tr>\n",
       "    <tr>\n",
       "      <th>6</th>\n",
       "      <td>0.995000</td>\n",
       "      <td>0.995000</td>\n",
       "      <td>0.995000</td>\n",
       "      <td>200.000000</td>\n",
       "    </tr>\n",
       "    <tr>\n",
       "      <th>accuracy</th>\n",
       "      <td>0.978764</td>\n",
       "      <td>0.978764</td>\n",
       "      <td>0.978764</td>\n",
       "      <td>0.978764</td>\n",
       "    </tr>\n",
       "    <tr>\n",
       "      <th>macro avg</th>\n",
       "      <td>0.975357</td>\n",
       "      <td>0.974841</td>\n",
       "      <td>0.975057</td>\n",
       "      <td>1036.000000</td>\n",
       "    </tr>\n",
       "    <tr>\n",
       "      <th>weighted avg</th>\n",
       "      <td>0.978861</td>\n",
       "      <td>0.978764</td>\n",
       "      <td>0.978781</td>\n",
       "      <td>1036.000000</td>\n",
       "    </tr>\n",
       "  </tbody>\n",
       "</table>\n",
       "</div>"
      ],
      "text/plain": [
       "              precision    recall  f1-score      support\n",
       "0              0.980892  0.980892  0.980892   157.000000\n",
       "1              0.969512  0.975460  0.972477   163.000000\n",
       "2              0.948718  0.973684  0.961039   114.000000\n",
       "3              0.981818  0.964286  0.972973   112.000000\n",
       "4              0.961039  0.948718  0.954839    78.000000\n",
       "5              0.990521  0.985849  0.988180   212.000000\n",
       "6              0.995000  0.995000  0.995000   200.000000\n",
       "accuracy       0.978764  0.978764  0.978764     0.978764\n",
       "macro avg      0.975357  0.974841  0.975057  1036.000000\n",
       "weighted avg   0.978861  0.978764  0.978781  1036.000000"
      ]
     },
     "execution_count": 45,
     "metadata": {},
     "output_type": "execute_result"
    }
   ],
   "source": [
    "from sklearn.metrics import classification_report\n",
    "a = classification_report(test_y,predict_y,output_dict=True)\n",
    "df_prf = pd.DataFrame(a).transpose()\n",
    "\n",
    "df_class_prf = pd.DataFrame(df_prf, index = ['0','1','2','3','4','5','6'],\n",
    "                  columns = ['precision','recall','f1-score'])\n",
    "df_prf\n"
   ]
  },
  {
   "cell_type": "code",
   "execution_count": null,
   "id": "1d61d126-f51f-4e56-9dae-c57f250e58fc",
   "metadata": {},
   "outputs": [],
   "source": []
  }
 ],
 "metadata": {
  "kernelspec": {
   "display_name": "Python 3 (ipykernel)",
   "language": "python",
   "name": "python3"
  },
  "language_info": {
   "codemirror_mode": {
    "name": "ipython",
    "version": 3
   },
   "file_extension": ".py",
   "mimetype": "text/x-python",
   "name": "python",
   "nbconvert_exporter": "python",
   "pygments_lexer": "ipython3",
   "version": "3.8.12"
  }
 },
 "nbformat": 4,
 "nbformat_minor": 5
}
