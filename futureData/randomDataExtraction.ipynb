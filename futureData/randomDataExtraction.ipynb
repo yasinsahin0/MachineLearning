{
 "cells": [
  {
   "cell_type": "code",
   "execution_count": 47,
   "id": "5ed80062-29f2-4ce3-94a1-15601baaf3c4",
   "metadata": {},
   "outputs": [],
   "source": [
    "import pandas as pd\n",
    "import warnings\n",
    "warnings.filterwarnings('ignore')\n",
    "import os\n",
    "import random\n",
    "#import sys\n",
    "#sys.path.append(os.getcwd()+\"/futureData\")\n",
    "#import futureExtraction"
   ]
  },
  {
   "cell_type": "code",
   "execution_count": 12,
   "id": "47e66b31-39eb-4baa-a3eb-67ab2b2294db",
   "metadata": {},
   "outputs": [],
   "source": [
    "data = pd.read_csv(\"../sound_split/Splitmetadata.csv\")"
   ]
  },
  {
   "cell_type": "code",
   "execution_count": 44,
   "id": "831e3e7b-b960-4d53-808f-e0ce1bb01e59",
   "metadata": {},
   "outputs": [],
   "source": [
    "turkmence = []\n",
    "ozbekce = []\n",
    "kirgizca = []\n",
    "azerbaycan = []\n",
    "uygurca =[]\n",
    "tatarca = []\n",
    "kazakca = []\n",
    "count = 20"
   ]
  },
  {
   "cell_type": "code",
   "execution_count": 45,
   "id": "960d727a-c5e3-452e-8a21-498e8c19b6f0",
   "metadata": {},
   "outputs": [],
   "source": [
    "while True:\n",
    "    rnd = random.randint(0,len(data))\n",
    "    cls_name = data[\"class_name\"][rnd]\n",
    "    file_name = data[\"file_name\"][rnd]\n",
    "    \n",
    "    if len(turkmence) < count and cls_name == \"turkmence\":\n",
    "        turkmence.append(file_name+\",\"+cls_name)\n",
    "        \n",
    "    elif len(ozbekce) < count and cls_name == \"ozbekce\":\n",
    "        ozbekce.append(file_name+\",\"+cls_name)\n",
    "        \n",
    "    elif len(kirgizca) < count and cls_name == \"kirgizca\":\n",
    "        kirgizca.append(file_name+\",\"+cls_name)\n",
    "    \n",
    "    elif len(azerbaycan) < count and cls_name == \"azerbaycan\":\n",
    "        azerbaycan.append(file_name+\",\"+cls_name)\n",
    "    \n",
    "    elif len(uygurca) < count and cls_name == \"uygurca\":\n",
    "        uygurca.append(file_name+\",\"+cls_name)\n",
    "        \n",
    "    elif len(tatarca) < count and cls_name == \"tatarca\":\n",
    "        tatarca.append(file_name+\",\"+cls_name)\n",
    "        \n",
    "    elif len(kazakca) < count and cls_name == \"kazakca\":\n",
    "        kazakca.append(file_name+\",\"+cls_name)\n",
    "        \n",
    "    elif len(turkmence) == count and len(ozbekce) == count and len(kirgizca) == count and len(azerbaycan) == count and len(uygurca) == count and len(tatarca) == count and len(kazakca) == count:\n",
    "        break\n",
    "            "
   ]
  },
  {
   "cell_type": "code",
   "execution_count": 46,
   "id": "41218dfb-dae8-4daf-a181-63aa93afeef1",
   "metadata": {},
   "outputs": [],
   "source": [
    "for i in range(len(tatarca)):\n",
    "    file = open(\"random_data.txt\",\"a\")\n",
    "    file.write(turkmence[i]+\"\\n\")\n",
    "    file.write(ozbekce[i]+\"\\n\")\n",
    "    file.write(kirgizca[i]+\"\\n\")\n",
    "    file.write(azerbaycan[i]+\"\\n\")\n",
    "    file.write(uygurca[i]+\"\\n\")\n",
    "    file.write(tatarca[i]+\"\\n\")\n",
    "    file.write(kazakca[i]+\"\\n\")\n",
    "    file.close()"
   ]
  },
  {
   "cell_type": "code",
   "execution_count": null,
   "id": "8dbc3f30-4594-415d-80eb-91593f50a8ab",
   "metadata": {},
   "outputs": [],
   "source": []
  }
 ],
 "metadata": {
  "kernelspec": {
   "display_name": "Python 3 (ipykernel)",
   "language": "python",
   "name": "python3"
  },
  "language_info": {
   "codemirror_mode": {
    "name": "ipython",
    "version": 3
   },
   "file_extension": ".py",
   "mimetype": "text/x-python",
   "name": "python",
   "nbconvert_exporter": "python",
   "pygments_lexer": "ipython3",
   "version": "3.8.12"
  }
 },
 "nbformat": 4,
 "nbformat_minor": 5
}
