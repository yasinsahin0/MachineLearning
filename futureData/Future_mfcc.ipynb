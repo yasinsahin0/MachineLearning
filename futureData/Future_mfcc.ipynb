{
 "cells": [
  {
   "cell_type": "code",
   "execution_count": 2,
   "id": "67d298bc-b62f-462d-acae-e420dc85357d",
   "metadata": {},
   "outputs": [],
   "source": [
    "import numpy as np\n",
    "import pandas as pd\n",
    "import librosa\n",
    "import warnings\n",
    "warnings.filterwarnings('ignore')"
   ]
  },
  {
   "cell_type": "code",
   "execution_count": 3,
   "id": "c317570f-98e4-4f4c-979f-84069cf759fa",
   "metadata": {},
   "outputs": [],
   "source": [
    "data = pd.read_csv(\"random_data.csv\")"
   ]
  },
  {
   "cell_type": "code",
   "execution_count": 4,
   "id": "57b93599-2e41-4090-acfe-8fa7af45e252",
   "metadata": {},
   "outputs": [
    {
     "data": {
      "text/html": [
       "<div>\n",
       "<style scoped>\n",
       "    .dataframe tbody tr th:only-of-type {\n",
       "        vertical-align: middle;\n",
       "    }\n",
       "\n",
       "    .dataframe tbody tr th {\n",
       "        vertical-align: top;\n",
       "    }\n",
       "\n",
       "    .dataframe thead th {\n",
       "        text-align: right;\n",
       "    }\n",
       "</style>\n",
       "<table border=\"1\" class=\"dataframe\">\n",
       "  <thead>\n",
       "    <tr style=\"text-align: right;\">\n",
       "      <th></th>\n",
       "      <th>file_name</th>\n",
       "      <th>class_name</th>\n",
       "    </tr>\n",
       "  </thead>\n",
       "  <tbody>\n",
       "    <tr>\n",
       "      <th>0</th>\n",
       "      <td>26_turkmence_23.mp3</td>\n",
       "      <td>turkmence</td>\n",
       "    </tr>\n",
       "    <tr>\n",
       "      <th>1</th>\n",
       "      <td>19_ozbekce_131.mp3</td>\n",
       "      <td>ozbekce</td>\n",
       "    </tr>\n",
       "    <tr>\n",
       "      <th>2</th>\n",
       "      <td>17_kirgizca_263.mp3</td>\n",
       "      <td>kirgizca</td>\n",
       "    </tr>\n",
       "    <tr>\n",
       "      <th>3</th>\n",
       "      <td>4_azerbaycan_106.mp3</td>\n",
       "      <td>azerbaycan</td>\n",
       "    </tr>\n",
       "    <tr>\n",
       "      <th>4</th>\n",
       "      <td>13_uygurca_54.mp3</td>\n",
       "      <td>uygurca</td>\n",
       "    </tr>\n",
       "    <tr>\n",
       "      <th>...</th>\n",
       "      <td>...</td>\n",
       "      <td>...</td>\n",
       "    </tr>\n",
       "    <tr>\n",
       "      <th>135</th>\n",
       "      <td>17_kirgizca_139.mp3</td>\n",
       "      <td>kirgizca</td>\n",
       "    </tr>\n",
       "    <tr>\n",
       "      <th>136</th>\n",
       "      <td>8_azerbaycan_18.mp3</td>\n",
       "      <td>azerbaycan</td>\n",
       "    </tr>\n",
       "    <tr>\n",
       "      <th>137</th>\n",
       "      <td>12_uygurca_341.mp3</td>\n",
       "      <td>uygurca</td>\n",
       "    </tr>\n",
       "    <tr>\n",
       "      <th>138</th>\n",
       "      <td>2_tatarca_36.mp3</td>\n",
       "      <td>tatarca</td>\n",
       "    </tr>\n",
       "    <tr>\n",
       "      <th>139</th>\n",
       "      <td>9_kazakca_241.mp3</td>\n",
       "      <td>kazakca</td>\n",
       "    </tr>\n",
       "  </tbody>\n",
       "</table>\n",
       "<p>140 rows × 2 columns</p>\n",
       "</div>"
      ],
      "text/plain": [
       "                file_name  class_name\n",
       "0     26_turkmence_23.mp3   turkmence\n",
       "1      19_ozbekce_131.mp3     ozbekce\n",
       "2     17_kirgizca_263.mp3    kirgizca\n",
       "3    4_azerbaycan_106.mp3  azerbaycan\n",
       "4       13_uygurca_54.mp3     uygurca\n",
       "..                    ...         ...\n",
       "135   17_kirgizca_139.mp3    kirgizca\n",
       "136   8_azerbaycan_18.mp3  azerbaycan\n",
       "137    12_uygurca_341.mp3     uygurca\n",
       "138      2_tatarca_36.mp3     tatarca\n",
       "139     9_kazakca_241.mp3     kazakca\n",
       "\n",
       "[140 rows x 2 columns]"
      ]
     },
     "execution_count": 4,
     "metadata": {},
     "output_type": "execute_result"
    }
   ],
   "source": [
    "data"
   ]
  },
  {
   "cell_type": "code",
   "execution_count": null,
   "id": "986c5488-2235-4b31-8d21-8b84ce55ca4c",
   "metadata": {},
   "outputs": [],
   "source": []
  }
 ],
 "metadata": {
  "kernelspec": {
   "display_name": "Python 3 (ipykernel)",
   "language": "python",
   "name": "python3"
  },
  "language_info": {
   "codemirror_mode": {
    "name": "ipython",
    "version": 3
   },
   "file_extension": ".py",
   "mimetype": "text/x-python",
   "name": "python",
   "nbconvert_exporter": "python",
   "pygments_lexer": "ipython3",
   "version": "3.8.13"
  }
 },
 "nbformat": 4,
 "nbformat_minor": 5
}
