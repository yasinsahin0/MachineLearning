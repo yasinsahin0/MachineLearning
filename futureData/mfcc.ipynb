{
 "cells": [
  {
   "cell_type": "code",
   "execution_count": 27,
   "id": "5ed80062-29f2-4ce3-94a1-15601baaf3c4",
   "metadata": {},
   "outputs": [],
   "source": [
    "import librosa\n",
    "import pandas\n",
    "import warnings\n",
    "warnings.filterwarnings('ignore')\n",
    "import os\n",
    "import sys\n",
    "sys.path.append(os.getcwd()+\"/futureData\")"
   ]
  },
  {
   "cell_type": "code",
   "execution_count": 28,
   "id": "6c303b6f-004c-47a9-98fb-5fde76361d5c",
   "metadata": {},
   "outputs": [],
   "source": [
    "import futureExtraction"
   ]
  },
  {
   "cell_type": "code",
   "execution_count": 10,
   "id": "3873e556-e403-4bb7-afbe-fb3760d4116f",
   "metadata": {},
   "outputs": [],
   "source": [
    "data,sr = librosa.load(\"./sound_split/sounds/1_tatarca_1.mp3\")"
   ]
  },
  {
   "cell_type": "code",
   "execution_count": 11,
   "id": "c56c309e-8cbd-42d6-b417-02cd09fa579f",
   "metadata": {},
   "outputs": [],
   "source": [
    "mfcc = librosa.feature.mfcc(y=data, sr=sr,n_mfcc=40)"
   ]
  },
  {
   "cell_type": "code",
   "execution_count": 12,
   "id": "e845ce66-d1e5-4504-89c0-00910b1aec8b",
   "metadata": {},
   "outputs": [
    {
     "data": {
      "text/plain": [
       "array([[-700.9855    , -700.9855    , -399.815     , ..., -242.04575   ,\n",
       "        -245.49362   , -248.11217   ],\n",
       "       [   0.        ,    0.        ,  143.84833   , ...,  171.38629   ,\n",
       "         160.91011   ,  146.96835   ],\n",
       "       [   0.        ,    0.        ,  -10.751209  , ...,  -14.216799  ,\n",
       "         -12.442898  ,    2.4270437 ],\n",
       "       ...,\n",
       "       [   0.        ,    0.        ,    4.2455616 , ...,    3.9791684 ,\n",
       "           5.961447  ,    4.6064653 ],\n",
       "       [   0.        ,    0.        ,    9.970974  , ...,    2.5135484 ,\n",
       "           2.2064066 ,    3.6195843 ],\n",
       "       [   0.        ,    0.        ,   -1.2968314 , ...,   -3.6076832 ,\n",
       "          -2.2992353 ,    0.72676206]], dtype=float32)"
      ]
     },
     "execution_count": 12,
     "metadata": {},
     "output_type": "execute_result"
    }
   ],
   "source": [
    "mfcc"
   ]
  },
  {
   "cell_type": "code",
   "execution_count": null,
   "id": "db5fc1e3-5a49-4b78-af1c-cec002f8f80b",
   "metadata": {},
   "outputs": [],
   "source": []
  }
 ],
 "metadata": {
  "kernelspec": {
   "display_name": "Python 3 (ipykernel)",
   "language": "python",
   "name": "python3"
  },
  "language_info": {
   "codemirror_mode": {
    "name": "ipython",
    "version": 3
   },
   "file_extension": ".py",
   "mimetype": "text/x-python",
   "name": "python",
   "nbconvert_exporter": "python",
   "pygments_lexer": "ipython3",
   "version": "3.8.13"
  }
 },
 "nbformat": 4,
 "nbformat_minor": 5
}
