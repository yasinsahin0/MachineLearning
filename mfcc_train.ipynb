{
 "cells": [
  {
   "cell_type": "code",
   "execution_count": 1,
   "id": "9017a8ac-4ef8-44ca-bb5f-3fadb4e9b92d",
   "metadata": {},
   "outputs": [],
   "source": [
    "import matplotlib.pyplot as plt\n",
    "import pandas as pd\n",
    "import os\n",
    "import librosa\n",
    "import numpy as np\n",
    "from tqdm import tqdm\n",
    "from sklearn.model_selection import train_test_split\n",
    "from tensorflow.keras.utils import to_categorical\n",
    "from sklearn.preprocessing import LabelEncoder\n",
    "from tensorflow.keras.models import Sequential\n",
    "from tensorflow.keras.layers import Dense,Dropout,Activation,Flatten\n",
    "from tensorflow.keras.optimizers import Adam\n",
    "from sklearn import metrics\n",
    "from tensorflow.keras.callbacks import ModelCheckpoint\n",
    "from datetime import datetime \n",
    "import tensorflow as tf\n",
    "from scipy.io import wavfile as wav"
   ]
  },
  {
   "cell_type": "code",
   "execution_count": 2,
   "id": "9b297e79-8a63-4a4e-a601-30d2b8e9af49",
   "metadata": {},
   "outputs": [
    {
     "name": "stderr",
     "output_type": "stream",
     "text": [
      "4632it [02:45, 28.05it/s]\n",
      "2022-03-29 21:35:28.953716: I tensorflow/core/common_runtime/pluggable_device/pluggable_device_factory.cc:305] Could not identify NUMA node of platform GPU ID 0, defaulting to 0. Your kernel may not have been built with NUMA support.\n",
      "2022-03-29 21:35:28.954209: I tensorflow/core/common_runtime/pluggable_device/pluggable_device_factory.cc:271] Created TensorFlow device (/job:localhost/replica:0/task:0/device:GPU:0 with 0 MB memory) -> physical PluggableDevice (device: 0, name: METAL, pci bus id: <undefined>)\n"
     ]
    },
    {
     "name": "stdout",
     "output_type": "stream",
     "text": [
      "Metal device set to: Apple M1\n"
     ]
    }
   ],
   "source": [
    "audio_dataset_path='splitSound/'\n",
    "metadata=pd.read_csv('data.csv')\n",
    "mfcc = 60\n",
    "\n",
    "def features_extractor(filename):\n",
    "    audio, sample_rate = librosa.load(filename, res_type='kaiser_fast') \n",
    "    mfccs_features = librosa.feature.mfcc(y=audio, sr=sample_rate, n_mfcc=mfcc)\n",
    "    mfccs_scaled_features = np.mean(mfccs_features.T,axis=0)\n",
    "    \n",
    "    return mfccs_scaled_features\n",
    "\n",
    "extracted_features=[]\n",
    "for index_num,row in tqdm(metadata.iterrows()):\n",
    "    file_name = os.path.join(os.path.abspath(audio_dataset_path),str(row[\"file_name\"]))\n",
    "    final_class_labels=row[\"class_name\"]\n",
    "    data=features_extractor(file_name)\n",
    "    extracted_features.append([data,final_class_labels])\n",
    "\n",
    "extracted_features_df = pd.DataFrame(extracted_features,columns=['feature','class'])\n",
    "\n",
    "X=np.array(extracted_features_df['feature'].tolist())\n",
    "y=np.array(extracted_features_df['class'].tolist())\n",
    "\n",
    "labelencoder=LabelEncoder()\n",
    "y=to_categorical(labelencoder.fit_transform(y))\n",
    "\n",
    "X_train,X_test,y_train,y_test=train_test_split(X,y,test_size=0.2,random_state=0)\n",
    "\n",
    "num_labels = 7\n",
    "\n",
    "model=Sequential()\n",
    "# 1. hidden layer\n",
    "model.add(Dense(125,input_shape=(mfcc,)))\n",
    "model.add(Activation('relu'))\n",
    "model.add(Dropout(0.5))\n",
    "# 2. hidden layer\n",
    "model.add(Dense(250))\n",
    "model.add(Activation('relu'))\n",
    "model.add(Dropout(0.5))\n",
    "# 3. hidden layer\n",
    "model.add(Dense(125))\n",
    "model.add(Activation('relu'))\n",
    "model.add(Dropout(0.5))\n",
    "\n",
    "# output layer\n",
    "model.add(Dense(num_labels))\n",
    "model.add(Activation('softmax'))\n",
    "\n",
    "model.compile(loss='categorical_crossentropy', metrics=['accuracy'], optimizer='adam')"
   ]
  },
  {
   "cell_type": "code",
   "execution_count": 3,
   "id": "19eb5bcb-b72d-4fb8-813c-f0b29b5237e0",
   "metadata": {},
   "outputs": [
    {
     "name": "stdout",
     "output_type": "stream",
     "text": [
      "Epoch 1/50\n"
     ]
    },
    {
     "name": "stderr",
     "output_type": "stream",
     "text": [
      "2022-03-29 21:37:00.928489: W tensorflow/core/platform/profile_utils/cpu_utils.cc:128] Failed to get CPU frequency: 0 Hz\n"
     ]
    },
    {
     "name": "stdout",
     "output_type": "stream",
     "text": [
      "  7/116 [>.............................] - ETA: 0s - loss: 39.9701 - accuracy: 0.1562 "
     ]
    },
    {
     "name": "stderr",
     "output_type": "stream",
     "text": [
      "2022-03-29 21:37:01.285605: I tensorflow/core/grappler/optimizers/custom_graph_optimizer_registry.cc:113] Plugin optimizer for device_type GPU is enabled.\n"
     ]
    },
    {
     "name": "stdout",
     "output_type": "stream",
     "text": [
      "116/116 [==============================] - 2s 10ms/step - loss: 10.2650 - accuracy: 0.2629 - val_loss: 2.2193 - val_accuracy: 0.3247\n",
      "Epoch 2/50\n",
      "  1/116 [..............................] - ETA: 0s - loss: 4.6526 - accuracy: 0.2812"
     ]
    },
    {
     "name": "stderr",
     "output_type": "stream",
     "text": [
      "2022-03-29 21:37:02.450407: I tensorflow/core/grappler/optimizers/custom_graph_optimizer_registry.cc:113] Plugin optimizer for device_type GPU is enabled.\n"
     ]
    },
    {
     "name": "stdout",
     "output_type": "stream",
     "text": [
      "116/116 [==============================] - 1s 9ms/step - loss: 2.7994 - accuracy: 0.4359 - val_loss: 1.5452 - val_accuracy: 0.4250\n",
      "Epoch 3/50\n",
      "116/116 [==============================] - 1s 9ms/step - loss: 1.8472 - accuracy: 0.5506 - val_loss: 1.4581 - val_accuracy: 0.4045\n",
      "Epoch 4/50\n",
      "116/116 [==============================] - 1s 9ms/step - loss: 1.3886 - accuracy: 0.6202 - val_loss: 1.2599 - val_accuracy: 0.5458\n",
      "Epoch 5/50\n",
      "116/116 [==============================] - 1s 9ms/step - loss: 1.0929 - accuracy: 0.6864 - val_loss: 1.0624 - val_accuracy: 0.6419\n",
      "Epoch 6/50\n",
      "116/116 [==============================] - 1s 9ms/step - loss: 0.8906 - accuracy: 0.7385 - val_loss: 0.9735 - val_accuracy: 0.7184\n",
      "Epoch 7/50\n",
      "116/116 [==============================] - 1s 9ms/step - loss: 0.8115 - accuracy: 0.7644 - val_loss: 0.8834 - val_accuracy: 0.7605\n",
      "Epoch 8/50\n",
      "116/116 [==============================] - 1s 10ms/step - loss: 0.7225 - accuracy: 0.7895 - val_loss: 0.8305 - val_accuracy: 0.8382\n",
      "Epoch 9/50\n",
      "116/116 [==============================] - 1s 9ms/step - loss: 0.6522 - accuracy: 0.8094 - val_loss: 0.7659 - val_accuracy: 0.8425\n",
      "Epoch 10/50\n",
      "116/116 [==============================] - 1s 9ms/step - loss: 0.5977 - accuracy: 0.8240 - val_loss: 0.7241 - val_accuracy: 0.8393\n",
      "Epoch 11/50\n",
      "116/116 [==============================] - 1s 9ms/step - loss: 0.5694 - accuracy: 0.8329 - val_loss: 0.6636 - val_accuracy: 0.8684\n",
      "Epoch 12/50\n",
      "116/116 [==============================] - 1s 9ms/step - loss: 0.5237 - accuracy: 0.8405 - val_loss: 0.6245 - val_accuracy: 0.8706\n",
      "Epoch 13/50\n",
      "116/116 [==============================] - 1s 9ms/step - loss: 0.4975 - accuracy: 0.8478 - val_loss: 0.5127 - val_accuracy: 0.8943\n",
      "Epoch 14/50\n",
      "116/116 [==============================] - 1s 9ms/step - loss: 0.4629 - accuracy: 0.8599 - val_loss: 0.4821 - val_accuracy: 0.8857\n",
      "Epoch 15/50\n",
      "116/116 [==============================] - 1s 9ms/step - loss: 0.4607 - accuracy: 0.8618 - val_loss: 0.4149 - val_accuracy: 0.8964\n",
      "Epoch 16/50\n",
      "116/116 [==============================] - 1s 9ms/step - loss: 0.4167 - accuracy: 0.8726 - val_loss: 0.4747 - val_accuracy: 0.9029\n",
      "Epoch 17/50\n",
      "116/116 [==============================] - 1s 10ms/step - loss: 0.4209 - accuracy: 0.8742 - val_loss: 0.4096 - val_accuracy: 0.9202\n",
      "Epoch 18/50\n",
      "116/116 [==============================] - 1s 9ms/step - loss: 0.3762 - accuracy: 0.8866 - val_loss: 0.3624 - val_accuracy: 0.9245\n",
      "Epoch 19/50\n",
      "116/116 [==============================] - 1s 9ms/step - loss: 0.3713 - accuracy: 0.8872 - val_loss: 0.3480 - val_accuracy: 0.9202\n",
      "Epoch 20/50\n",
      "116/116 [==============================] - 1s 9ms/step - loss: 0.3397 - accuracy: 0.8969 - val_loss: 0.3028 - val_accuracy: 0.9417\n",
      "Epoch 21/50\n",
      "116/116 [==============================] - 1s 9ms/step - loss: 0.3550 - accuracy: 0.8955 - val_loss: 0.2827 - val_accuracy: 0.9364\n",
      "Epoch 22/50\n",
      "116/116 [==============================] - 1s 9ms/step - loss: 0.3209 - accuracy: 0.9020 - val_loss: 0.2916 - val_accuracy: 0.9396\n",
      "Epoch 23/50\n",
      "116/116 [==============================] - 1s 10ms/step - loss: 0.2942 - accuracy: 0.9088 - val_loss: 0.2927 - val_accuracy: 0.9288\n",
      "Epoch 24/50\n",
      "116/116 [==============================] - 1s 9ms/step - loss: 0.3037 - accuracy: 0.9088 - val_loss: 0.2690 - val_accuracy: 0.9331\n",
      "Epoch 25/50\n",
      "116/116 [==============================] - 1s 9ms/step - loss: 0.3137 - accuracy: 0.9061 - val_loss: 0.2542 - val_accuracy: 0.9461\n",
      "Epoch 26/50\n",
      "116/116 [==============================] - 1s 9ms/step - loss: 0.2751 - accuracy: 0.9179 - val_loss: 0.2395 - val_accuracy: 0.9558\n",
      "Epoch 27/50\n",
      "116/116 [==============================] - 1s 9ms/step - loss: 0.2576 - accuracy: 0.9204 - val_loss: 0.2062 - val_accuracy: 0.9525\n",
      "Epoch 28/50\n",
      "116/116 [==============================] - 1s 9ms/step - loss: 0.2874 - accuracy: 0.9144 - val_loss: 0.2168 - val_accuracy: 0.9407\n",
      "Epoch 29/50\n",
      "116/116 [==============================] - 1s 9ms/step - loss: 0.2566 - accuracy: 0.9206 - val_loss: 0.1984 - val_accuracy: 0.9515\n",
      "Epoch 30/50\n",
      "116/116 [==============================] - 1s 9ms/step - loss: 0.2445 - accuracy: 0.9220 - val_loss: 0.1739 - val_accuracy: 0.9601\n",
      "Epoch 31/50\n",
      "116/116 [==============================] - 1s 9ms/step - loss: 0.2387 - accuracy: 0.9271 - val_loss: 0.1812 - val_accuracy: 0.9569\n",
      "Epoch 32/50\n",
      "116/116 [==============================] - 1s 9ms/step - loss: 0.2282 - accuracy: 0.9290 - val_loss: 0.1723 - val_accuracy: 0.9612\n",
      "Epoch 33/50\n",
      "116/116 [==============================] - 1s 10ms/step - loss: 0.2270 - accuracy: 0.9328 - val_loss: 0.1975 - val_accuracy: 0.9579\n",
      "Epoch 34/50\n",
      "116/116 [==============================] - 1s 9ms/step - loss: 0.2042 - accuracy: 0.9339 - val_loss: 0.1699 - val_accuracy: 0.9579\n",
      "Epoch 35/50\n",
      "116/116 [==============================] - 1s 9ms/step - loss: 0.2210 - accuracy: 0.9350 - val_loss: 0.1637 - val_accuracy: 0.9687\n",
      "Epoch 36/50\n",
      "116/116 [==============================] - 1s 10ms/step - loss: 0.2036 - accuracy: 0.9358 - val_loss: 0.1594 - val_accuracy: 0.9569\n",
      "Epoch 37/50\n",
      "116/116 [==============================] - 1s 10ms/step - loss: 0.2038 - accuracy: 0.9379 - val_loss: 0.1501 - val_accuracy: 0.9633\n",
      "Epoch 38/50\n",
      "116/116 [==============================] - 1s 9ms/step - loss: 0.1929 - accuracy: 0.9414 - val_loss: 0.1474 - val_accuracy: 0.9644\n",
      "Epoch 39/50\n",
      "116/116 [==============================] - 1s 9ms/step - loss: 0.1800 - accuracy: 0.9441 - val_loss: 0.1506 - val_accuracy: 0.9612\n",
      "Epoch 40/50\n",
      "116/116 [==============================] - 1s 9ms/step - loss: 0.1866 - accuracy: 0.9422 - val_loss: 0.1357 - val_accuracy: 0.9655\n",
      "Epoch 41/50\n",
      "116/116 [==============================] - 1s 9ms/step - loss: 0.1783 - accuracy: 0.9395 - val_loss: 0.1300 - val_accuracy: 0.9687\n",
      "Epoch 42/50\n",
      "116/116 [==============================] - 1s 9ms/step - loss: 0.1925 - accuracy: 0.9430 - val_loss: 0.1447 - val_accuracy: 0.9687\n",
      "Epoch 43/50\n",
      "116/116 [==============================] - 1s 9ms/step - loss: 0.1901 - accuracy: 0.9449 - val_loss: 0.1283 - val_accuracy: 0.9720\n",
      "Epoch 44/50\n",
      "116/116 [==============================] - 1s 10ms/step - loss: 0.1830 - accuracy: 0.9444 - val_loss: 0.1299 - val_accuracy: 0.9687\n",
      "Epoch 45/50\n",
      "116/116 [==============================] - 1s 9ms/step - loss: 0.1788 - accuracy: 0.9449 - val_loss: 0.1117 - val_accuracy: 0.9763\n",
      "Epoch 46/50\n",
      "116/116 [==============================] - 1s 9ms/step - loss: 0.1595 - accuracy: 0.9503 - val_loss: 0.1053 - val_accuracy: 0.9730\n",
      "Epoch 47/50\n",
      "116/116 [==============================] - 1s 9ms/step - loss: 0.1688 - accuracy: 0.9479 - val_loss: 0.1061 - val_accuracy: 0.9720\n",
      "Epoch 48/50\n",
      "116/116 [==============================] - 1s 9ms/step - loss: 0.1623 - accuracy: 0.9487 - val_loss: 0.1037 - val_accuracy: 0.9698\n",
      "Epoch 49/50\n",
      "116/116 [==============================] - 1s 9ms/step - loss: 0.1641 - accuracy: 0.9495 - val_loss: 0.1225 - val_accuracy: 0.9687\n",
      "Epoch 50/50\n",
      "116/116 [==============================] - 1s 10ms/step - loss: 0.1304 - accuracy: 0.9552 - val_loss: 0.0937 - val_accuracy: 0.9698\n"
     ]
    },
    {
     "data": {
      "text/plain": [
       "<keras.callbacks.History at 0x284f7b4c0>"
      ]
     },
     "execution_count": 3,
     "metadata": {},
     "output_type": "execute_result"
    }
   ],
   "source": [
    "epochscount = 50\n",
    "num_batch_size = 32\n",
    "\n",
    "model.fit(X_train, y_train, batch_size=num_batch_size, epochs=epochscount, validation_data=(X_test, y_test), verbose=1)"
   ]
  },
  {
   "cell_type": "code",
   "execution_count": 4,
   "id": "c6d68246-ec8f-489a-9a69-447b8a2ebbba",
   "metadata": {},
   "outputs": [
    {
     "name": "stdout",
     "output_type": "stream",
     "text": [
      "0.9697951078414917\n",
      "0.09370702505111694\n"
     ]
    }
   ],
   "source": [
    "validation_test_set_accuracy = model.evaluate(X_test,y_test,verbose=0)\n",
    "print(validation_test_set_accuracy[1])\n",
    "print(validation_test_set_accuracy[0])"
   ]
  },
  {
   "cell_type": "code",
   "execution_count": 5,
   "id": "c3c4b401-2fc4-4858-ac4d-57c41d7b5630",
   "metadata": {},
   "outputs": [
    {
     "name": "stderr",
     "output_type": "stream",
     "text": [
      "2022-03-29 21:38:01.699699: I tensorflow/core/grappler/optimizers/custom_graph_optimizer_registry.cc:113] Plugin optimizer for device_type GPU is enabled.\n"
     ]
    },
    {
     "name": "stdout",
     "output_type": "stream",
     "text": [
      "ozbekce\n",
      "ozbekce\n",
      "ozbekce\n",
      "ozbekce\n",
      "ozbekce\n",
      "ozbekce\n",
      "ozbekce\n",
      "ozbekce\n",
      "turkmence\n",
      "turkmence\n"
     ]
    }
   ],
   "source": [
    "result_classes = [\"azerbaycan\",\"kazakca\", \"uygurca\",\"kirgizca\",\"tatarca\",\"turkmence\",\"ozbekce\"]\n",
    "file_name = \"ozbekce\"\n",
    "for i in range(1,11):\n",
    "    filename=\"testSound/\"+file_name+\"_\"+str(i)+\".wav\"\n",
    "    sound_signal, sample_rate = librosa.load(filename, res_type='kaiser_fast') \n",
    "    mfccs_features = librosa.feature.mfcc(y=sound_signal, sr=sample_rate, n_mfcc=mfcc)\n",
    "    mfccs_scaled_features = np.mean(mfccs_features.T,axis=0)\n",
    "    mfccs_scaled_features = mfccs_scaled_features.reshape(1,-1)\n",
    "    result_array = model.predict(mfccs_scaled_features)\n",
    "    result = np.argmax(result_array[0])\n",
    "    print(result_classes[result]) "
   ]
  },
  {
   "cell_type": "code",
   "execution_count": null,
   "id": "eda05365-bbda-4693-92a4-c4040f1aabb5",
   "metadata": {},
   "outputs": [],
   "source": []
  }
 ],
 "metadata": {
  "kernelspec": {
   "display_name": "Python 3 (ipykernel)",
   "language": "python",
   "name": "python3"
  },
  "language_info": {
   "codemirror_mode": {
    "name": "ipython",
    "version": 3
   },
   "file_extension": ".py",
   "mimetype": "text/x-python",
   "name": "python",
   "nbconvert_exporter": "python",
   "pygments_lexer": "ipython3",
   "version": "3.8.12"
  }
 },
 "nbformat": 4,
 "nbformat_minor": 5
}
