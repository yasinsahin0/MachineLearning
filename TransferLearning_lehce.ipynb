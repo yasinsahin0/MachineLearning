{
 "cells": [
  {
   "cell_type": "code",
   "execution_count": 23,
   "id": "7929a760-1082-45f0-9965-55dab4379c6c",
   "metadata": {},
   "outputs": [],
   "source": [
    "import librosa\n",
    "import pandas as pd\n",
    "import os\n",
    "import numpy as np\n",
    "from tqdm import tqdm\n",
    "\n",
    "from sklearn.model_selection import train_test_split \n",
    "from sklearn.preprocessing import LabelEncoder\n",
    "\n",
    "import tensorflow as tf\n",
    "from tensorflow.keras.utils import to_categorical\n",
    "from tensorflow.keras.models import Sequential\n",
    "from tensorflow.keras.layers import Dense , Activation , Dropout\n",
    "\n",
    "import IPython.display as ipd\n",
    "\n"
   ]
  },
  {
   "cell_type": "code",
   "execution_count": 27,
   "id": "171cb338-cbb9-4bc9-9a84-3a2a8303cb80",
   "metadata": {},
   "outputs": [],
   "source": [
    "import matplotlib.pyplot as plt\n",
    "import pandas as pd\n",
    "import os\n",
    "import librosa\n",
    "import numpy as np\n",
    "from tqdm import tqdm\n",
    "from sklearn.model_selection import train_test_split\n",
    "from tensorflow.keras.utils import to_categorical\n",
    "from sklearn.preprocessing import LabelEncoder\n",
    "from tensorflow.keras.models import Sequential\n",
    "from tensorflow.keras.layers import Dense,Dropout,Activation,Flatten\n",
    "from tensorflow.keras.optimizers import Adam\n",
    "from sklearn import metrics\n",
    "from tensorflow.keras.callbacks import ModelCheckpoint\n",
    "from datetime import datetime \n",
    "import tensorflow as tf\n",
    "from scipy.io import wavfile as wav\n",
    "import warnings\n",
    "warnings.filterwarnings('ignore')"
   ]
  },
  {
   "cell_type": "code",
   "execution_count": 34,
   "id": "df61a4d1-7738-4c14-a334-2d4942d34336",
   "metadata": {},
   "outputs": [],
   "source": [
    "audio_dataset_path='sound_split/sounds/'\n",
    "metadata=pd.read_csv('sound_split/Splitmetadata.csv')\n",
    "mfcc = 50 # öznitelik sayısı\n",
    "num_labels = 7 # Sınıf sayısı\n",
    "unique_class = metadata['class_name'].unique()\n",
    "\n",
    "def features_extractor(filename):\n",
    "    \n",
    "    audio, sample_rate = librosa.load(filename, res_type='kaiser_fast') \n",
    "    mfccs_features = librosa.feature.mfcc(y=audio, sr=sample_rate, n_mfcc=mfcc)\n",
    "    mfccs_scaled_features = np.mean(mfccs_features.T,axis=0)\n",
    "    \n",
    "    return mfccs_scaled_features"
   ]
  },
  {
   "cell_type": "code",
   "execution_count": 35,
   "id": "0611aaa1-60bf-416c-9299-13f0df5e63d3",
   "metadata": {},
   "outputs": [
    {
     "name": "stderr",
     "output_type": "stream",
     "text": [
      "5178it [07:59, 10.80it/s]\n"
     ]
    }
   ],
   "source": [
    "extracted_features=[]\n",
    "for index_num,row in tqdm(metadata.iterrows()):\n",
    "    file_name = os.path.join(os.path.abspath(audio_dataset_path),str(row[\"file_name\"]))\n",
    "    final_class_labels=row[\"class_name\"]\n",
    "    data=features_extractor(file_name)\n",
    "    extracted_features.append([data,final_class_labels])"
   ]
  },
  {
   "cell_type": "code",
   "execution_count": 36,
   "id": "479bd7a8-6523-4dc5-aed9-fb6c243ad67b",
   "metadata": {},
   "outputs": [],
   "source": [
    "from keras import backend as K\n",
    "\n",
    "def recall_m(y_true, y_pred):\n",
    "    true_positives = K.sum(K.round(K.clip(y_true * y_pred, 0, 1)))\n",
    "    possible_positives = K.sum(K.round(K.clip(y_true, 0, 1)))\n",
    "    recall = true_positives / (possible_positives + K.epsilon())\n",
    "    return recall\n",
    "\n",
    "def precision_m(y_true, y_pred):\n",
    "    true_positives = K.sum(K.round(K.clip(y_true * y_pred, 0, 1)))\n",
    "    predicted_positives = K.sum(K.round(K.clip(y_pred, 0, 1)))\n",
    "    precision = true_positives / (predicted_positives + K.epsilon())\n",
    "    return precision\n",
    "\n",
    "def f1_m(y_true, y_pred):\n",
    "    precision = precision_m(y_true, y_pred)\n",
    "    recall = recall_m(y_true, y_pred)\n",
    "    return 2*((precision*recall)/(precision+recall+K.epsilon()))"
   ]
  },
  {
   "cell_type": "code",
   "execution_count": 37,
   "id": "3654402d-801a-40e7-a9db-db0f46cfff06",
   "metadata": {},
   "outputs": [],
   "source": [
    "extracted_features_df = pd.DataFrame(extracted_features,columns=['feature','class'])\n",
    "\n",
    "X=np.array(extracted_features_df['feature'].tolist())\n",
    "y=np.array(extracted_features_df['class'].tolist())\n",
    "\n",
    "labelencoder=LabelEncoder()\n",
    "y=to_categorical(labelencoder.fit_transform(y))\n",
    "\n",
    "X_train,X_test,y_train,y_test=train_test_split(X,y,test_size=0.2,random_state=0)"
   ]
  },
  {
   "cell_type": "code",
   "execution_count": 24,
   "id": "c610510e-372d-4723-ab1c-bc4ee4d3f947",
   "metadata": {},
   "outputs": [
    {
     "name": "stdout",
     "output_type": "stream",
     "text": [
      "Model: \"sequential\"\n",
      "_________________________________________________________________\n",
      " Layer (type)                Output Shape              Param #   \n",
      "=================================================================\n",
      " dense (Dense)               (None, 128)               6528      \n",
      "                                                                 \n",
      " activation (Activation)     (None, 128)               0         \n",
      "                                                                 \n",
      " dropout (Dropout)           (None, 128)               0         \n",
      "                                                                 \n",
      " dense_1 (Dense)             (None, 256)               33024     \n",
      "                                                                 \n",
      " activation_1 (Activation)   (None, 256)               0         \n",
      "                                                                 \n",
      " dropout_1 (Dropout)         (None, 256)               0         \n",
      "                                                                 \n",
      " dense_2 (Dense)             (None, 256)               65792     \n",
      "                                                                 \n",
      " activation_2 (Activation)   (None, 256)               0         \n",
      "                                                                 \n",
      " dropout_2 (Dropout)         (None, 256)               0         \n",
      "                                                                 \n",
      " dense_3 (Dense)             (None, 128)               32896     \n",
      "                                                                 \n",
      " dense_4 (Dense)             (None, 10)                1290      \n",
      "                                                                 \n",
      " activation_3 (Activation)   (None, 10)                0         \n",
      "                                                                 \n",
      "=================================================================\n",
      "Total params: 139,530\n",
      "Trainable params: 139,530\n",
      "Non-trainable params: 0\n",
      "_________________________________________________________________\n"
     ]
    }
   ],
   "source": [
    "\n",
    "from keras.models import load_model\n",
    "\n",
    "model = load_model('urban_model')\n",
    "\n",
    "model.summary()\n"
   ]
  },
  {
   "cell_type": "code",
   "execution_count": 25,
   "id": "560566f0-1429-48a8-b407-fbf662db6d88",
   "metadata": {},
   "outputs": [],
   "source": [
    "\n",
    "# 2. hidden layer\n",
    "model.add(Dense(200 ,name=\"d1\"))\n",
    "model.add(Activation('relu',name =\"a1\"))\n",
    "\n",
    "# 3. hidden layer\n",
    "model.add(Dense(100, name=\"d2\"))\n",
    "model.add(Activation('relu',name =\"a2\"))\n",
    "\n",
    "\n",
    "# output layer\n",
    "model.add(Dense(7, name=\"d3\"))\n",
    "model.add(Activation('softmax', name=\"a3\"))"
   ]
  },
  {
   "cell_type": "code",
   "execution_count": 26,
   "id": "b97d162e-d284-4615-8664-3bdda9c4291e",
   "metadata": {},
   "outputs": [
    {
     "name": "stdout",
     "output_type": "stream",
     "text": [
      "Model: \"sequential\"\n",
      "_________________________________________________________________\n",
      " Layer (type)                Output Shape              Param #   \n",
      "=================================================================\n",
      " dense (Dense)               (None, 128)               6528      \n",
      "                                                                 \n",
      " activation (Activation)     (None, 128)               0         \n",
      "                                                                 \n",
      " dropout (Dropout)           (None, 128)               0         \n",
      "                                                                 \n",
      " dense_1 (Dense)             (None, 256)               33024     \n",
      "                                                                 \n",
      " activation_1 (Activation)   (None, 256)               0         \n",
      "                                                                 \n",
      " dropout_1 (Dropout)         (None, 256)               0         \n",
      "                                                                 \n",
      " dense_2 (Dense)             (None, 256)               65792     \n",
      "                                                                 \n",
      " activation_2 (Activation)   (None, 256)               0         \n",
      "                                                                 \n",
      " dropout_2 (Dropout)         (None, 256)               0         \n",
      "                                                                 \n",
      " dense_3 (Dense)             (None, 128)               32896     \n",
      "                                                                 \n",
      " dense_4 (Dense)             (None, 10)                1290      \n",
      "                                                                 \n",
      " activation_3 (Activation)   (None, 10)                0         \n",
      "                                                                 \n",
      " d1 (Dense)                  (None, 200)               2200      \n",
      "                                                                 \n",
      " a1 (Activation)             (None, 200)               0         \n",
      "                                                                 \n",
      " d2 (Dense)                  (None, 100)               20100     \n",
      "                                                                 \n",
      " a2 (Activation)             (None, 100)               0         \n",
      "                                                                 \n",
      " d3 (Dense)                  (None, 7)                 707       \n",
      "                                                                 \n",
      " a3 (Activation)             (None, 7)                 0         \n",
      "                                                                 \n",
      "=================================================================\n",
      "Total params: 162,537\n",
      "Trainable params: 162,537\n",
      "Non-trainable params: 0\n",
      "_________________________________________________________________\n"
     ]
    }
   ],
   "source": [
    "model.summary()"
   ]
  },
  {
   "cell_type": "code",
   "execution_count": 38,
   "id": "c4ad0b78-69a4-405b-9973-d7865ca25af5",
   "metadata": {},
   "outputs": [],
   "source": [
    "model.compile(loss='categorical_crossentropy', metrics=['accuracy',f1_m, precision_m, recall_m], optimizer='adam')"
   ]
  },
  {
   "cell_type": "code",
   "execution_count": 39,
   "id": "d5a8928d-fb63-4aed-a33b-dee7e889f8b4",
   "metadata": {},
   "outputs": [
    {
     "name": "stdout",
     "output_type": "stream",
     "text": [
      "Epoch 1/25\n"
     ]
    },
    {
     "name": "stderr",
     "output_type": "stream",
     "text": [
      "2022-05-30 02:48:39.565123: I tensorflow/core/grappler/optimizers/custom_graph_optimizer_registry.cc:113] Plugin optimizer for device_type GPU is enabled.\n"
     ]
    },
    {
     "name": "stdout",
     "output_type": "stream",
     "text": [
      "130/130 [==============================] - ETA: 0s - loss: 1.7411 - accuracy: 0.3392 - f1_m: 0.0530 - precision_m: 0.2902 - recall_m: 0.0299"
     ]
    },
    {
     "name": "stderr",
     "output_type": "stream",
     "text": [
      "2022-05-30 02:48:44.670447: I tensorflow/core/grappler/optimizers/custom_graph_optimizer_registry.cc:113] Plugin optimizer for device_type GPU is enabled.\n"
     ]
    },
    {
     "name": "stdout",
     "output_type": "stream",
     "text": [
      "130/130 [==============================] - 6s 22ms/step - loss: 1.7411 - accuracy: 0.3392 - f1_m: 0.0530 - precision_m: 0.2902 - recall_m: 0.0299 - val_loss: 1.3944 - val_accuracy: 0.5338 - val_f1_m: 0.3553 - val_precision_m: 0.8637 - val_recall_m: 0.2285\n",
      "Epoch 2/25\n",
      "130/130 [==============================] - 2s 12ms/step - loss: 1.4411 - accuracy: 0.4920 - f1_m: 0.3711 - precision_m: 0.6771 - recall_m: 0.2652 - val_loss: 1.0796 - val_accuracy: 0.6351 - val_f1_m: 0.5362 - val_precision_m: 0.9143 - val_recall_m: 0.3845\n",
      "Epoch 3/25\n",
      "130/130 [==============================] - 2s 13ms/step - loss: 1.2041 - accuracy: 0.5843 - f1_m: 0.5349 - precision_m: 0.7533 - recall_m: 0.4210 - val_loss: 0.9420 - val_accuracy: 0.6351 - val_f1_m: 0.6119 - val_precision_m: 0.9415 - val_recall_m: 0.4605\n",
      "Epoch 4/25\n",
      "130/130 [==============================] - 2s 12ms/step - loss: 1.0940 - accuracy: 0.6118 - f1_m: 0.5585 - precision_m: 0.8187 - recall_m: 0.4285 - val_loss: 0.9024 - val_accuracy: 0.6583 - val_f1_m: 0.5960 - val_precision_m: 0.9572 - val_recall_m: 0.4381\n",
      "Epoch 5/25\n",
      "130/130 [==============================] - 2s 12ms/step - loss: 1.0063 - accuracy: 0.6359 - f1_m: 0.5910 - precision_m: 0.8516 - recall_m: 0.4607 - val_loss: 0.8234 - val_accuracy: 0.7114 - val_f1_m: 0.7074 - val_precision_m: 0.8417 - val_recall_m: 0.6127\n",
      "Epoch 6/25\n",
      "130/130 [==============================] - 2s 12ms/step - loss: 0.9543 - accuracy: 0.6492 - f1_m: 0.6107 - precision_m: 0.8342 - recall_m: 0.4909 - val_loss: 0.8303 - val_accuracy: 0.6670 - val_f1_m: 0.6078 - val_precision_m: 0.9778 - val_recall_m: 0.4463\n",
      "Epoch 7/25\n",
      "130/130 [==============================] - 2s 12ms/step - loss: 0.9283 - accuracy: 0.6533 - f1_m: 0.6116 - precision_m: 0.8683 - recall_m: 0.4785 - val_loss: 0.7983 - val_accuracy: 0.7095 - val_f1_m: 0.6131 - val_precision_m: 0.9649 - val_recall_m: 0.4549\n",
      "Epoch 8/25\n",
      "130/130 [==============================] - 2s 12ms/step - loss: 0.8998 - accuracy: 0.6779 - f1_m: 0.6437 - precision_m: 0.8437 - recall_m: 0.5314 - val_loss: 0.7342 - val_accuracy: 0.7230 - val_f1_m: 0.6555 - val_precision_m: 0.9636 - val_recall_m: 0.5013\n",
      "Epoch 9/25\n",
      "130/130 [==============================] - 2s 12ms/step - loss: 0.8600 - accuracy: 0.6767 - f1_m: 0.6480 - precision_m: 0.8422 - recall_m: 0.5345 - val_loss: 0.7167 - val_accuracy: 0.7172 - val_f1_m: 0.6660 - val_precision_m: 0.9657 - val_recall_m: 0.5126\n",
      "Epoch 10/25\n",
      "130/130 [==============================] - 2s 12ms/step - loss: 0.8176 - accuracy: 0.6883 - f1_m: 0.6542 - precision_m: 0.8485 - recall_m: 0.5389 - val_loss: 0.7075 - val_accuracy: 0.7336 - val_f1_m: 0.6365 - val_precision_m: 0.9736 - val_recall_m: 0.4776\n",
      "Epoch 11/25\n",
      "130/130 [==============================] - 2s 12ms/step - loss: 0.8033 - accuracy: 0.6948 - f1_m: 0.6706 - precision_m: 0.8484 - recall_m: 0.5637 - val_loss: 0.6639 - val_accuracy: 0.7297 - val_f1_m: 0.6805 - val_precision_m: 0.9728 - val_recall_m: 0.5284\n",
      "Epoch 12/25\n",
      "130/130 [==============================] - 2s 12ms/step - loss: 0.7632 - accuracy: 0.7081 - f1_m: 0.6777 - precision_m: 0.8599 - recall_m: 0.5662 - val_loss: 0.6285 - val_accuracy: 0.7452 - val_f1_m: 0.7103 - val_precision_m: 0.9444 - val_recall_m: 0.5735\n",
      "Epoch 13/25\n",
      "130/130 [==============================] - 2s 12ms/step - loss: 0.7315 - accuracy: 0.7204 - f1_m: 0.6967 - precision_m: 0.8438 - recall_m: 0.5986 - val_loss: 0.6289 - val_accuracy: 0.7539 - val_f1_m: 0.7314 - val_precision_m: 0.8495 - val_recall_m: 0.6449\n",
      "Epoch 14/25\n",
      "130/130 [==============================] - 2s 12ms/step - loss: 0.7306 - accuracy: 0.7253 - f1_m: 0.7021 - precision_m: 0.8364 - recall_m: 0.6099 - val_loss: 0.6020 - val_accuracy: 0.7809 - val_f1_m: 0.7317 - val_precision_m: 0.9179 - val_recall_m: 0.6124\n",
      "Epoch 15/25\n",
      "130/130 [==============================] - 2s 12ms/step - loss: 0.6903 - accuracy: 0.7397 - f1_m: 0.7269 - precision_m: 0.8363 - recall_m: 0.6492 - val_loss: 0.5879 - val_accuracy: 0.7645 - val_f1_m: 0.7600 - val_precision_m: 0.8552 - val_recall_m: 0.6856\n",
      "Epoch 16/25\n",
      "130/130 [==============================] - 2s 12ms/step - loss: 0.6729 - accuracy: 0.7376 - f1_m: 0.7269 - precision_m: 0.8422 - recall_m: 0.6429 - val_loss: 0.5861 - val_accuracy: 0.7577 - val_f1_m: 0.7537 - val_precision_m: 0.8694 - val_recall_m: 0.6673\n",
      "Epoch 17/25\n",
      "130/130 [==============================] - 2s 12ms/step - loss: 0.6730 - accuracy: 0.7530 - f1_m: 0.7371 - precision_m: 0.8207 - recall_m: 0.6715 - val_loss: 0.5735 - val_accuracy: 0.7838 - val_f1_m: 0.7571 - val_precision_m: 0.8761 - val_recall_m: 0.6689\n",
      "Epoch 18/25\n",
      "130/130 [==============================] - 2s 12ms/step - loss: 0.6461 - accuracy: 0.7682 - f1_m: 0.7589 - precision_m: 0.8384 - recall_m: 0.6961 - val_loss: 0.5558 - val_accuracy: 0.7905 - val_f1_m: 0.7942 - val_precision_m: 0.9034 - val_recall_m: 0.7109\n",
      "Epoch 19/25\n",
      "130/130 [==============================] - 2s 12ms/step - loss: 0.6218 - accuracy: 0.7786 - f1_m: 0.7724 - precision_m: 0.8394 - recall_m: 0.7171 - val_loss: 0.5671 - val_accuracy: 0.7819 - val_f1_m: 0.7826 - val_precision_m: 0.8686 - val_recall_m: 0.7137\n",
      "Epoch 20/25\n",
      "130/130 [==============================] - 2s 12ms/step - loss: 0.6099 - accuracy: 0.7842 - f1_m: 0.7826 - precision_m: 0.8455 - recall_m: 0.7303 - val_loss: 0.5051 - val_accuracy: 0.8185 - val_f1_m: 0.8075 - val_precision_m: 0.8854 - val_recall_m: 0.7440\n",
      "Epoch 21/25\n",
      "130/130 [==============================] - 2s 12ms/step - loss: 0.5891 - accuracy: 0.7868 - f1_m: 0.7865 - precision_m: 0.8402 - recall_m: 0.7407 - val_loss: 0.5063 - val_accuracy: 0.8176 - val_f1_m: 0.8155 - val_precision_m: 0.8914 - val_recall_m: 0.7535\n",
      "Epoch 22/25\n",
      "130/130 [==============================] - 2s 12ms/step - loss: 0.5825 - accuracy: 0.7999 - f1_m: 0.8006 - precision_m: 0.8551 - recall_m: 0.7542 - val_loss: 0.4921 - val_accuracy: 0.8166 - val_f1_m: 0.8202 - val_precision_m: 0.8983 - val_recall_m: 0.7566\n",
      "Epoch 23/25\n",
      "130/130 [==============================] - 2s 12ms/step - loss: 0.5599 - accuracy: 0.8146 - f1_m: 0.8140 - precision_m: 0.8675 - recall_m: 0.7686 - val_loss: 0.4645 - val_accuracy: 0.8320 - val_f1_m: 0.8422 - val_precision_m: 0.8996 - val_recall_m: 0.7932\n",
      "Epoch 24/25\n",
      "130/130 [==============================] - 2s 12ms/step - loss: 0.5699 - accuracy: 0.8110 - f1_m: 0.8108 - precision_m: 0.8614 - recall_m: 0.7679 - val_loss: 0.4464 - val_accuracy: 0.8494 - val_f1_m: 0.8453 - val_precision_m: 0.9192 - val_recall_m: 0.7850\n",
      "Epoch 25/25\n",
      "130/130 [==============================] - 2s 12ms/step - loss: 0.5419 - accuracy: 0.8288 - f1_m: 0.8275 - precision_m: 0.8755 - recall_m: 0.7858 - val_loss: 0.4321 - val_accuracy: 0.8542 - val_f1_m: 0.8551 - val_precision_m: 0.9210 - val_recall_m: 0.7996\n"
     ]
    }
   ],
   "source": [
    "epochscount = 25\n",
    "num_batch_size = 32\n",
    "\n",
    "history = model.fit(X_train, y_train, batch_size=num_batch_size, epochs=epochscount, validation_data=(X_test, y_test), verbose=1)"
   ]
  },
  {
   "cell_type": "code",
   "execution_count": 40,
   "id": "33875777-7fa6-4578-93a9-994034e276b6",
   "metadata": {},
   "outputs": [
    {
     "name": "stdout",
     "output_type": "stream",
     "text": [
      "0.8542470932006836\n",
      "0.4321366548538208\n"
     ]
    }
   ],
   "source": [
    "validation_test_set_accuracy = model.evaluate(X_test,y_test,verbose=0)\n",
    "print(validation_test_set_accuracy[1])\n",
    "print(validation_test_set_accuracy[0])"
   ]
  },
  {
   "cell_type": "code",
   "execution_count": 41,
   "id": "7bad7aa6-6d40-4968-95eb-7c0420b98c0d",
   "metadata": {},
   "outputs": [
    {
     "name": "stdout",
     "output_type": "stream",
     "text": [
      "dict_keys(['loss', 'accuracy', 'f1_m', 'precision_m', 'recall_m', 'val_loss', 'val_accuracy', 'val_f1_m', 'val_precision_m', 'val_recall_m'])\n"
     ]
    }
   ],
   "source": [
    "print(history.history.keys())"
   ]
  },
  {
   "cell_type": "code",
   "execution_count": 42,
   "id": "747ddbba-970a-43bc-bb23-0b6deed90978",
   "metadata": {},
   "outputs": [
    {
     "data": {
      "image/png": "[encoded data removed]",
      "text/plain": [
       "<Figure size 432x288 with 1 Axes>"
      ]
     },
     "metadata": {
      "needs_background": "light"
     },
     "output_type": "display_data"
    }
   ],
   "source": [
    "plt.plot(history.history['accuracy'])\n",
    "plt.plot(history.history['val_accuracy'])\n",
    "plt.title('model accuracy')\n",
    "plt.ylabel('accuracy')\n",
    "plt.xlabel('epoch')\n",
    "plt.legend(['train', 'test'], loc='upper left')\n",
    "plt.show()\n",
    "#plt.savefig('c.png')"
   ]
  },
  {
   "cell_type": "code",
   "execution_count": 43,
   "id": "d1fccc2f-6335-44bd-99b6-68610ebbc13e",
   "metadata": {},
   "outputs": [
    {
     "data": {
      "image/png": "[encoded data removed]",
      "text/plain": [
       "<Figure size 432x288 with 1 Axes>"
      ]
     },
     "metadata": {
      "needs_background": "light"
     },
     "output_type": "display_data"
    }
   ],
   "source": [
    "plt.plot(history.history['loss'])\n",
    "plt.plot(history.history['val_loss'])\n",
    "plt.title('model loss')\n",
    "plt.ylabel('loss')\n",
    "plt.xlabel('epoch')\n",
    "plt.legend(['train', 'test'], loc='upper left')\n",
    "plt.show()"
   ]
  },
  {
   "cell_type": "code",
   "execution_count": 44,
   "id": "5c06170b-51f5-405e-87ef-4d7330f3aa06",
   "metadata": {},
   "outputs": [
    {
     "name": "stdout",
     "output_type": "stream",
     "text": [
      "F1-skor :  0.8274826407432556\n",
      "Precision skor :  0.87553471326828\n",
      "Recall skor :  0.7857829928398132\n"
     ]
    }
   ],
   "source": [
    "print(\"F1-skor : \",history.history['f1_m'][-1])\n",
    "print(\"Precision skor : \",history.history['precision_m'][-1])\n",
    "print(\"Recall skor : \",history.history['recall_m'][-1])"
   ]
  },
  {
   "cell_type": "code",
   "execution_count": 45,
   "id": "d364a8ea-f601-483a-a205-e12fa12a60c9",
   "metadata": {},
   "outputs": [
    {
     "name": "stderr",
     "output_type": "stream",
     "text": [
      "2022-05-30 02:52:33.733134: I tensorflow/core/grappler/optimizers/custom_graph_optimizer_registry.cc:113] Plugin optimizer for device_type GPU is enabled.\n"
     ]
    }
   ],
   "source": [
    "y_pred = model.predict(X_test)"
   ]
  },
  {
   "cell_type": "code",
   "execution_count": 46,
   "id": "c964d758-3635-4737-b199-fd2ea4aec565",
   "metadata": {},
   "outputs": [
    {
     "name": "stdout",
     "output_type": "stream",
     "text": [
      "1036\n",
      "1036\n"
     ]
    }
   ],
   "source": [
    "predict_y, test_y =[],[]\n",
    "for a in y_pred:\n",
    "    predict_y.append(np.argmax(a))\n",
    "for i in y_test:\n",
    "    test_y.append(np.argmax(i))\n",
    "print(len(predict_y))\n",
    "print(len(test_y))"
   ]
  },
  {
   "cell_type": "code",
   "execution_count": 47,
   "id": "1301303c-4247-4383-b534-38a875d371da",
   "metadata": {},
   "outputs": [],
   "source": [
    "from sklearn.metrics import confusion_matrix\n",
    "cm = confusion_matrix(test_y, predict_y)"
   ]
  },
  {
   "cell_type": "code",
   "execution_count": 48,
   "id": "e3d15e40-5d43-40be-9e60-094f4eb78795",
   "metadata": {},
   "outputs": [
    {
     "data": {
      "image/png": "[encoded data removed]",
      "text/plain": [
       "<Figure size 864x720 with 2 Axes>"
      ]
     },
     "metadata": {
      "needs_background": "light"
     },
     "output_type": "display_data"
    }
   ],
   "source": [
    "import seaborn as sn\n",
    "import pandas as pd\n",
    "import matplotlib.pyplot as plt\n",
    "\n",
    "df_cm = pd.DataFrame(cm, index = [i for i in unique_class],\n",
    "                  columns = [i for i in unique_class])\n",
    "plt.figure(figsize = (12,10))\n",
    "plt.title(\"Confusion Matrix\")\n",
    "ss = sn.heatmap(df_cm, annot=True,fmt=\"d\", cmap=\"BuPu\")\n",
    "figure = ss.get_figure()    \n",
    "figure.savefig('tl_conf.png', dpi=400)"
   ]
  },
  {
   "cell_type": "code",
   "execution_count": null,
   "id": "f7a08c57-f8cb-4107-ac8c-0f250c5106f9",
   "metadata": {},
   "outputs": [],
   "source": []
  }
 ],
 "metadata": {
  "kernelspec": {
   "display_name": "Python 3 (ipykernel)",
   "language": "python",
   "name": "python3"
  },
  "language_info": {
   "codemirror_mode": {
    "name": "ipython",
    "version": 3
   },
   "file_extension": ".py",
   "mimetype": "text/x-python",
   "name": "python",
   "nbconvert_exporter": "python",
   "pygments_lexer": "ipython3",
   "version": "3.8.12"
  }
 },
 "nbformat": 4,
 "nbformat_minor": 5
}
