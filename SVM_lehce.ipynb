{
 "cells": [
  {
   "cell_type": "markdown",
   "id": "4347bc6e-9a7a-4939-9fcc-68f0e9a5eb84",
   "metadata": {},
   "source": [
    "### Kaynak\n",
    "https://www.veribilimiokulu.com/support-vector-machine-svm-ile-siniflandirma-python-ornek-uygulamasi/  \n",
    "https://bilgisayarkavramlari.com/2013/03/31/siniflandirma-classification/"
   ]
  },
  {
   "cell_type": "code",
   "execution_count": 1,
   "id": "9aa05e4f-21dc-47bf-a3db-e041349f97c4",
   "metadata": {},
   "outputs": [],
   "source": [
    "import matplotlib.pyplot as plt\n",
    "import pandas as pd\n",
    "import os\n",
    "import librosa\n",
    "import numpy as np\n",
    "from tqdm import tqdm\n",
    "from sklearn.model_selection import train_test_split\n",
    "from tensorflow.keras.utils import to_categorical\n",
    "from sklearn.preprocessing import LabelEncoder\n",
    "from tensorflow.keras.models import Sequential\n",
    "from tensorflow.keras.layers import Dense,Dropout,Activation,Flatten\n",
    "from tensorflow.keras.optimizers import Adam\n",
    "from sklearn import metrics\n",
    "from tensorflow.keras.callbacks import ModelCheckpoint\n",
    "from datetime import datetime \n",
    "import tensorflow as tf\n",
    "from scipy.io import wavfile as wav\n",
    "import warnings\n",
    "warnings.filterwarnings('ignore')"
   ]
  },
  {
   "cell_type": "code",
   "execution_count": 2,
   "id": "d2a335ca-d03a-4ac4-9cc4-961d40805f78",
   "metadata": {},
   "outputs": [],
   "source": [
    "audio_dataset_path='sound_split/sounds/'\n",
    "metadata=pd.read_csv('sound_split/Splitmetadata.csv')\n",
    "mfcc = 70 # öznitelik sayısı\n",
    "num_labels = 7 # Sınıf sayısı"
   ]
  },
  {
   "cell_type": "code",
   "execution_count": 3,
   "id": "6264aaad-029d-433d-a45c-5d49e0108ba7",
   "metadata": {},
   "outputs": [],
   "source": [
    "def features_extractor(filename):\n",
    "    \n",
    "    audio, sample_rate = librosa.load(filename, res_type='kaiser_fast') \n",
    "    mfccs_features = librosa.feature.mfcc(y=audio, sr=sample_rate, n_mfcc=mfcc)\n",
    "    mfccs_scaled_features = np.mean(mfccs_features.T,axis=0)\n",
    "    \n",
    "    return mfccs_scaled_features"
   ]
  },
  {
   "cell_type": "code",
   "execution_count": 4,
   "id": "23ff818c-27f7-44f1-8b3c-d43a127096d1",
   "metadata": {},
   "outputs": [
    {
     "name": "stderr",
     "output_type": "stream",
     "text": [
      "5178it [07:22, 11.70it/s]\n"
     ]
    }
   ],
   "source": [
    "extracted_features=[]\n",
    "for index_num,row in tqdm(metadata.iterrows()):\n",
    "    file_name = os.path.join(os.path.abspath(audio_dataset_path),str(row[\"file_name\"]))\n",
    "    final_class_labels=row[\"class_name\"]\n",
    "    data=features_extractor(file_name)\n",
    "    extracted_features.append([data,final_class_labels])"
   ]
  },
  {
   "cell_type": "code",
   "execution_count": 5,
   "id": "7533e818-9d1f-49d0-89c1-bdf2644a4ac2",
   "metadata": {},
   "outputs": [],
   "source": [
    "extracted_features_df = pd.DataFrame(extracted_features,columns=['feature','class'])\n",
    "\n",
    "X=np.array(extracted_features_df['feature'].tolist())\n",
    "y=np.array(extracted_features_df['class'].tolist())\n",
    "\n",
    "labelencoder=LabelEncoder()\n",
    "y=to_categorical(labelencoder.fit_transform(y))\n",
    "\n",
    "X_train,X_test,y_train,y_test=train_test_split(X,y,test_size=0.2,random_state=0)"
   ]
  },
  {
   "cell_type": "code",
   "execution_count": 44,
   "id": "52d5f220-0ad7-43c7-bc5b-4dca12d1e335",
   "metadata": {},
   "outputs": [],
   "source": [
    "cls = extracted_features_df['class'].tolist()\n",
    "X_mean = []\n",
    "X_min = []\n",
    "X_max = []\n",
    "for i in X:\n",
    "    X_mean.append(np.mean(i))\n",
    "    X_min.append(np.min(i))\n",
    "    X_max.append(np.max(i))"
   ]
  },
  {
   "cell_type": "code",
   "execution_count": 49,
   "id": "7ed9184c-5bce-441b-af38-97f431e2c6d6",
   "metadata": {},
   "outputs": [],
   "source": [
    "with open(\"SVM_lehce.txt\",\"a\") as file:\n",
    "    file.write(\"mean,min,max,class\\n\")\n",
    "    for i in range(0,len(X_mean)):\n",
    "        file.write(str(X_mean[i])+\",\"+str(X_min[i])+\",\"+str(X_max[i])+\",\"+cls[i]+\"\\n\")"
   ]
  },
  {
   "cell_type": "code",
   "execution_count": 50,
   "id": "3245be47-5926-4525-9d1a-24ec5e9a34f2",
   "metadata": {},
   "outputs": [],
   "source": [
    "dataset = pd.read_csv('SVM_lehce.csv')"
   ]
  },
  {
   "cell_type": "code",
   "execution_count": 51,
   "id": "c584a829-69b7-45b9-87cb-c9976c933df7",
   "metadata": {},
   "outputs": [
    {
     "data": {
      "text/html": [
       "<div>\n",
       "<style scoped>\n",
       "    .dataframe tbody tr th:only-of-type {\n",
       "        vertical-align: middle;\n",
       "    }\n",
       "\n",
       "    .dataframe tbody tr th {\n",
       "        vertical-align: top;\n",
       "    }\n",
       "\n",
       "    .dataframe thead th {\n",
       "        text-align: right;\n",
       "    }\n",
       "</style>\n",
       "<table border=\"1\" class=\"dataframe\">\n",
       "  <thead>\n",
       "    <tr style=\"text-align: right;\">\n",
       "      <th></th>\n",
       "      <th>mean</th>\n",
       "      <th>min</th>\n",
       "      <th>max</th>\n",
       "      <th>class</th>\n",
       "    </tr>\n",
       "  </thead>\n",
       "  <tbody>\n",
       "    <tr>\n",
       "      <th>0</th>\n",
       "      <td>-4.032666</td>\n",
       "      <td>-302.22950</td>\n",
       "      <td>115.561800</td>\n",
       "      <td>turkmence</td>\n",
       "    </tr>\n",
       "    <tr>\n",
       "      <th>1</th>\n",
       "      <td>-4.325071</td>\n",
       "      <td>-302.14243</td>\n",
       "      <td>115.484375</td>\n",
       "      <td>turkmence</td>\n",
       "    </tr>\n",
       "    <tr>\n",
       "      <th>2</th>\n",
       "      <td>-4.159544</td>\n",
       "      <td>-272.86038</td>\n",
       "      <td>117.178750</td>\n",
       "      <td>turkmence</td>\n",
       "    </tr>\n",
       "    <tr>\n",
       "      <th>3</th>\n",
       "      <td>-4.167392</td>\n",
       "      <td>-282.07697</td>\n",
       "      <td>133.300640</td>\n",
       "      <td>turkmence</td>\n",
       "    </tr>\n",
       "    <tr>\n",
       "      <th>4</th>\n",
       "      <td>-4.028280</td>\n",
       "      <td>-269.52304</td>\n",
       "      <td>128.307890</td>\n",
       "      <td>turkmence</td>\n",
       "    </tr>\n",
       "    <tr>\n",
       "      <th>...</th>\n",
       "      <td>...</td>\n",
       "      <td>...</td>\n",
       "      <td>...</td>\n",
       "      <td>...</td>\n",
       "    </tr>\n",
       "    <tr>\n",
       "      <th>5173</th>\n",
       "      <td>-4.168431</td>\n",
       "      <td>-383.62125</td>\n",
       "      <td>116.744736</td>\n",
       "      <td>ozbekce</td>\n",
       "    </tr>\n",
       "    <tr>\n",
       "      <th>5174</th>\n",
       "      <td>-4.105752</td>\n",
       "      <td>-394.87085</td>\n",
       "      <td>117.603560</td>\n",
       "      <td>ozbekce</td>\n",
       "    </tr>\n",
       "    <tr>\n",
       "      <th>5175</th>\n",
       "      <td>-4.240935</td>\n",
       "      <td>-427.92280</td>\n",
       "      <td>113.422180</td>\n",
       "      <td>ozbekce</td>\n",
       "    </tr>\n",
       "    <tr>\n",
       "      <th>5176</th>\n",
       "      <td>-8.412517</td>\n",
       "      <td>-735.09110</td>\n",
       "      <td>59.621376</td>\n",
       "      <td>ozbekce</td>\n",
       "    </tr>\n",
       "    <tr>\n",
       "      <th>5177</th>\n",
       "      <td>-16.162441</td>\n",
       "      <td>-1131.37080</td>\n",
       "      <td>0.000000</td>\n",
       "      <td>ozbekce</td>\n",
       "    </tr>\n",
       "  </tbody>\n",
       "</table>\n",
       "<p>5178 rows × 4 columns</p>\n",
       "</div>"
      ],
      "text/plain": [
       "           mean         min         max      class\n",
       "0     -4.032666  -302.22950  115.561800  turkmence\n",
       "1     -4.325071  -302.14243  115.484375  turkmence\n",
       "2     -4.159544  -272.86038  117.178750  turkmence\n",
       "3     -4.167392  -282.07697  133.300640  turkmence\n",
       "4     -4.028280  -269.52304  128.307890  turkmence\n",
       "...         ...         ...         ...        ...\n",
       "5173  -4.168431  -383.62125  116.744736    ozbekce\n",
       "5174  -4.105752  -394.87085  117.603560    ozbekce\n",
       "5175  -4.240935  -427.92280  113.422180    ozbekce\n",
       "5176  -8.412517  -735.09110   59.621376    ozbekce\n",
       "5177 -16.162441 -1131.37080    0.000000    ozbekce\n",
       "\n",
       "[5178 rows x 4 columns]"
      ]
     },
     "execution_count": 51,
     "metadata": {},
     "output_type": "execute_result"
    }
   ],
   "source": [
    "dataset"
   ]
  },
  {
   "cell_type": "code",
   "execution_count": 52,
   "id": "3aa27af1-71a6-4889-899b-e12dcf2f2315",
   "metadata": {},
   "outputs": [],
   "source": [
    "X = dataset.iloc[:, [0,1,2]].values\n",
    "y = dataset.iloc[:, 3].values"
   ]
  },
  {
   "cell_type": "code",
   "execution_count": 53,
   "id": "402af3f8-401d-45b4-b1d3-a2f201876541",
   "metadata": {},
   "outputs": [
    {
     "data": {
      "text/plain": [
       "array([[   -4.0326657,  -302.2295   ,   115.5618   ],\n",
       "       [   -4.325071 ,  -302.14243  ,   115.484375 ],\n",
       "       [   -4.159544 ,  -272.86038  ,   117.17875  ],\n",
       "       ...,\n",
       "       [   -4.240935 ,  -427.9228   ,   113.42218  ],\n",
       "       [   -8.412517 ,  -735.0911   ,    59.621376 ],\n",
       "       [  -16.162441 , -1131.3708   ,     0.       ]])"
      ]
     },
     "execution_count": 53,
     "metadata": {},
     "output_type": "execute_result"
    }
   ],
   "source": [
    "X"
   ]
  },
  {
   "cell_type": "code",
   "execution_count": 54,
   "id": "57cbe07e-cc76-4d30-bfa4-29167b080d9b",
   "metadata": {},
   "outputs": [
    {
     "data": {
      "text/plain": [
       "array(['turkmence', 'turkmence', 'turkmence', ..., 'ozbekce', 'ozbekce',\n",
       "       'ozbekce'], dtype=object)"
      ]
     },
     "execution_count": 54,
     "metadata": {},
     "output_type": "execute_result"
    }
   ],
   "source": [
    "y"
   ]
  },
  {
   "cell_type": "code",
   "execution_count": 55,
   "id": "c99b859b-bde4-436e-ac6a-d0ab6201d76b",
   "metadata": {},
   "outputs": [],
   "source": [
    "from sklearn.model_selection import train_test_split\n",
    "X_train, X_test, y_train, y_test = train_test_split(X, y, test_size = 0.25, random_state = 0)"
   ]
  },
  {
   "cell_type": "code",
   "execution_count": 56,
   "id": "d2561421-27ae-469a-8ad7-7cd914ae357f",
   "metadata": {},
   "outputs": [],
   "source": [
    "from sklearn.preprocessing import StandardScaler\n",
    "sc_X = StandardScaler()\n",
    "X_train = sc_X.fit_transform(X_train)\n",
    "X_test = sc_X.transform(X_test)"
   ]
  },
  {
   "cell_type": "code",
   "execution_count": 57,
   "id": "7bc837fb-29ee-4c01-b445-2b07d1dce4ab",
   "metadata": {},
   "outputs": [
    {
     "data": {
      "text/plain": [
       "SVC(kernel='linear', random_state=0)"
      ]
     },
     "execution_count": 57,
     "metadata": {},
     "output_type": "execute_result"
    }
   ],
   "source": [
    "from sklearn.svm import SVC\n",
    "classifier = SVC(kernel='linear', random_state = 0)\n",
    "classifier.fit(X_train, y_train)"
   ]
  },
  {
   "cell_type": "code",
   "execution_count": 58,
   "id": "28b4a5ac-d1e7-40d7-92d8-c5eff73b1460",
   "metadata": {},
   "outputs": [],
   "source": [
    "y_pred = classifier.predict(X_test)"
   ]
  },
  {
   "cell_type": "code",
   "execution_count": 59,
   "id": "dd3fe2b3-6ad1-43f8-819d-e5fb7fa0cd8a",
   "metadata": {},
   "outputs": [
    {
     "name": "stdout",
     "output_type": "stream",
     "text": [
      "[[ 62  28   4   2   0  32  76]\n",
      " [  8 150   0   0   0  29  10]\n",
      " [  4  14  11   0   0  40  76]\n",
      " [  8   6   5  42   0  40  45]\n",
      " [ 30   2   3   1   0  40  20]\n",
      " [  1  13   1   1   0 208  29]\n",
      " [  4  19   0   5   0   4 222]]\n"
     ]
    }
   ],
   "source": [
    "from sklearn.metrics import confusion_matrix\n",
    "cm = confusion_matrix(y_test, y_pred)\n",
    "print(cm)"
   ]
  },
  {
   "cell_type": "code",
   "execution_count": 60,
   "id": "76685732-9e87-4368-a6b9-23c05836d7f8",
   "metadata": {},
   "outputs": [
    {
     "data": {
      "text/plain": [
       "array(['kirgizca', 'turkmence', 'uygurca', ..., 'uygurca', 'turkmence',\n",
       "       'uygurca'], dtype=object)"
      ]
     },
     "execution_count": 60,
     "metadata": {},
     "output_type": "execute_result"
    }
   ],
   "source": [
    "y_pred"
   ]
  },
  {
   "cell_type": "code",
   "execution_count": 61,
   "id": "04258383-0115-4eb9-bbe1-962702bb1e1f",
   "metadata": {},
   "outputs": [
    {
     "data": {
      "text/plain": [
       "array(['tatarca', 'turkmence', 'azerbaycan', ..., 'ozbekce', 'kirgizca',\n",
       "       'azerbaycan'], dtype=object)"
      ]
     },
     "execution_count": 61,
     "metadata": {},
     "output_type": "execute_result"
    }
   ],
   "source": [
    "y_test"
   ]
  },
  {
   "cell_type": "code",
   "execution_count": null,
   "id": "ce987775-63fd-47b5-a61a-83e89326ba28",
   "metadata": {},
   "outputs": [],
   "source": []
  }
 ],
 "metadata": {
  "kernelspec": {
   "display_name": "Python 3 (ipykernel)",
   "language": "python",
   "name": "python3"
  },
  "language_info": {
   "codemirror_mode": {
    "name": "ipython",
    "version": 3
   },
   "file_extension": ".py",
   "mimetype": "text/x-python",
   "name": "python",
   "nbconvert_exporter": "python",
   "pygments_lexer": "ipython3",
   "version": "3.8.12"
  }
 },
 "nbformat": 4,
 "nbformat_minor": 5
}
