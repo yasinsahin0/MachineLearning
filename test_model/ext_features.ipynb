{
 "cells": [
  {
   "cell_type": "code",
   "execution_count": 1,
   "id": "b600a5f7-f836-4322-ad2f-238da8404321",
   "metadata": {},
   "outputs": [],
   "source": [
    "import matplotlib.pyplot as plt\n",
    "import pandas as pd\n",
    "import os\n",
    "import librosa\n",
    "import numpy as np\n",
    "from tqdm import tqdm\n",
    "from sklearn.model_selection import train_test_split\n",
    "from tensorflow.keras.utils import to_categorical\n",
    "from sklearn.preprocessing import LabelEncoder\n",
    "from tensorflow.keras.models import Sequential\n",
    "from tensorflow.keras.layers import Dense,Dropout,Activation,Flatten\n",
    "from tensorflow.keras.optimizers import Adam\n",
    "from sklearn import metrics\n",
    "from tensorflow.keras.callbacks import ModelCheckpoint\n",
    "from datetime import datetime \n",
    "import tensorflow as tf\n",
    "from scipy.io import wavfile as wav\n",
    "import warnings\n",
    "warnings.filterwarnings('ignore')"
   ]
  },
  {
   "cell_type": "code",
   "execution_count": 2,
   "id": "3c587e8d-e2a5-42da-901e-1a161e8938fe",
   "metadata": {},
   "outputs": [],
   "source": [
    "audio_dataset_path='../sound_split/sounds/'\n",
    "metadata=pd.read_csv('../sound_split/Splitmetadata.csv')\n",
    "mfcc = 20 # öznitelik sayısı\n",
    "num_labels = 7 # Sınıf sayısı"
   ]
  },
  {
   "cell_type": "code",
   "execution_count": 3,
   "id": "a37340fb-1ab7-4474-b9b3-feaf422b718b",
   "metadata": {},
   "outputs": [],
   "source": [
    "def features_extractor(filename):\n",
    "    \n",
    "    audio, sample_rate = librosa.load(filename, res_type='kaiser_fast') \n",
    "    mfccs_features = librosa.feature.mfcc(y=audio, sr=sample_rate, n_mfcc=mfcc)\n",
    "    mfccs_scaled_features = np.mean(mfccs_features.T,axis=0)\n",
    "    \n",
    "    return mfccs_scaled_features"
   ]
  },
  {
   "cell_type": "code",
   "execution_count": 4,
   "id": "b3463ecd-72d1-4d1e-a2f2-8aa8d9543fd5",
   "metadata": {},
   "outputs": [
    {
     "name": "stderr",
     "output_type": "stream",
     "text": [
      "5178it [07:10, 12.02it/s]\n"
     ]
    }
   ],
   "source": [
    "extracted_features=[]\n",
    "for index_num,row in tqdm(metadata.iterrows()):\n",
    "    file_name = os.path.join(os.path.abspath(audio_dataset_path),str(row[\"file_name\"]))\n",
    "    final_class_labels=row[\"class_name\"]\n",
    "    data=features_extractor(file_name)\n",
    "    extracted_features.append([data,final_class_labels])"
   ]
  },
  {
   "cell_type": "code",
   "execution_count": 5,
   "id": "8b1e45ec-8ee4-41ec-bca0-46bcd265ae6a",
   "metadata": {},
   "outputs": [
    {
     "data": {
      "text/plain": [
       "[array([-302.2295   ,  115.5618   ,    9.870232 ,   33.49708  ,\n",
       "           7.6199956,   16.006134 ,  -12.667001 ,   10.842165 ,\n",
       "          -4.5316687,    4.3755865,  -26.857292 ,   -5.429427 ,\n",
       "          -5.2995896,   -2.2825265,   -9.284686 ,    8.309737 ,\n",
       "         -12.319212 ,   -0.8115615,   -3.2596128,    2.9297943],\n",
       "       dtype=float32),\n",
       " 'turkmence']"
      ]
     },
     "execution_count": 5,
     "metadata": {},
     "output_type": "execute_result"
    }
   ],
   "source": [
    "extracted_features[0]"
   ]
  },
  {
   "cell_type": "code",
   "execution_count": 6,
   "id": "82602523-ec2c-430b-bd62-12d7ce6a9517",
   "metadata": {},
   "outputs": [
    {
     "data": {
      "text/plain": [
       "array([-302.2295   ,  115.5618   ,    9.870232 ,   33.49708  ,\n",
       "          7.6199956,   16.006134 ,  -12.667001 ,   10.842165 ,\n",
       "         -4.5316687,    4.3755865,  -26.857292 ,   -5.429427 ,\n",
       "         -5.2995896,   -2.2825265,   -9.284686 ,    8.309737 ,\n",
       "        -12.319212 ,   -0.8115615,   -3.2596128,    2.9297943],\n",
       "      dtype=float32)"
      ]
     },
     "execution_count": 6,
     "metadata": {},
     "output_type": "execute_result"
    }
   ],
   "source": [
    "extracted_features[0][0]"
   ]
  },
  {
   "cell_type": "code",
   "execution_count": 16,
   "id": "e68a9452-274e-49d0-bbe2-9660b547712d",
   "metadata": {},
   "outputs": [
    {
     "data": {
      "text/plain": [
       "2.9297943"
      ]
     },
     "execution_count": 16,
     "metadata": {},
     "output_type": "execute_result"
    }
   ],
   "source": [
    "extracted_features[0][0][19]"
   ]
  },
  {
   "cell_type": "code",
   "execution_count": 8,
   "id": "42d4f6d9-591a-438e-b9f3-1c46350368c5",
   "metadata": {},
   "outputs": [
    {
     "data": {
      "text/plain": [
       "-302.2295"
      ]
     },
     "execution_count": 8,
     "metadata": {},
     "output_type": "execute_result"
    }
   ],
   "source": [
    "extracted_features[0][0][0]"
   ]
  },
  {
   "cell_type": "code",
   "execution_count": 29,
   "id": "4de818e3-cc1e-43da-874c-87ad184b69e5",
   "metadata": {},
   "outputs": [],
   "source": [
    "with open(\"features_map.txt\",\"a\") as file:\n",
    "    file.write(\"class_name,n1,n2,n3,n4,n5,n6,n7,n8,n9,n10,n11,n12,n13,n14,n15,n16,n17,n18,n19\\n\")\n",
    "    for i in extracted_features:\n",
    "        file.write(i[1]+\",\"+str(i[0][0])+\",\")\n",
    "        for a in range(1,18):\n",
    "            #print(type(i[0][a]))\n",
    "            file.write(str(i[0][a])+\",\")\n",
    "        file.write(str(i[0][19])+\"\\n\")"
   ]
  },
  {
   "cell_type": "code",
   "execution_count": null,
   "id": "e62e5b03-02da-4ca6-abd6-59c9aecb579e",
   "metadata": {},
   "outputs": [],
   "source": []
  }
 ],
 "metadata": {
  "kernelspec": {
   "display_name": "Python 3 (ipykernel)",
   "language": "python",
   "name": "python3"
  },
  "language_info": {
   "codemirror_mode": {
    "name": "ipython",
    "version": 3
   },
   "file_extension": ".py",
   "mimetype": "text/x-python",
   "name": "python",
   "nbconvert_exporter": "python",
   "pygments_lexer": "ipython3",
   "version": "3.8.12"
  }
 },
 "nbformat": 4,
 "nbformat_minor": 5
}
